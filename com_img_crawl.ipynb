{
 "cells": [
  {
   "cell_type": "code",
   "execution_count": 14,
   "id": "cc370ec5-e0af-42d2-a47d-27ac904708b8",
   "metadata": {},
   "outputs": [
    {
     "name": "stdout",
     "output_type": "stream",
     "text": [
      "✅ 저장 완료: insurance_logos\\손해보험협회_자동차보험_종합포털_로고.png\n",
      "✅ 저장 완료: insurance_logos\\메리츠화재보험주식회사.png\n",
      "✅ 저장 완료: insurance_logos\\한화손해보험주식회사.png\n",
      "✅ 저장 완료: insurance_logos\\롯데손해보험주식회사.png\n",
      "✅ 저장 완료: insurance_logos\\MG손해보험주식회사.png\n",
      "✅ 저장 완료: insurance_logos\\흥국화재해상보험주식회사.png\n",
      "✅ 저장 완료: insurance_logos\\삼성화재해상보험주식회사.png\n",
      "✅ 저장 완료: insurance_logos\\현대해상화재보험주식회사.png\n",
      "✅ 저장 완료: insurance_logos\\KB손해보험주식회사.png\n",
      "✅ 저장 완료: insurance_logos\\DB손해보험주식회사.png\n",
      "✅ 저장 완료: insurance_logos\\AXA손해보험주식회사.png\n",
      "✅ 저장 완료: insurance_logos\\하나손해보험주식회사.png\n",
      "✅ 저장 완료: insurance_logos\\캐롯손해보험주식회사.png\n",
      "✅ 저장 완료: insurance_logos\\최상단으로_이동.png\n"
     ]
    }
   ],
   "source": [
    "import os\n",
    "import requests\n",
    "from bs4 import BeautifulSoup\n",
    "from urllib.parse import urljoin\n",
    "import urllib3\n",
    "\n",
    "# 인증서 경고 끄기\n",
    "urllib3.disable_warnings(urllib3.exceptions.InsecureRequestWarning)\n",
    "\n",
    "# 저장할 디렉토리\n",
    "save_dir = \"insurance_logos\"\n",
    "os.makedirs(save_dir, exist_ok=True)\n",
    "\n",
    "# 대상 URL\n",
    "url = \"https://carinfo.knia.or.kr/lmxsrv/cnswc/icnyCnswcList.do\"\n",
    "headers = {\"User-Agent\": \"Mozilla/5.0\"}\n",
    "\n",
    "# 요청\n",
    "response = requests.get(url, headers=headers, verify=False)\n",
    "soup = BeautifulSoup(response.text, \"html.parser\")\n",
    "\n",
    "# 이미지 추출\n",
    "img_tags = soup.find_all(\"img\")\n",
    "for idx, img in enumerate(img_tags):\n",
    "    src = img.get(\"src\")\n",
    "    img_url = urljoin(url, src)\n",
    "\n",
    "    # 파일 이름 만들기 (alt 또는 인덱스 기반)\n",
    "    name = img.get(\"alt\") or f\"logo_{idx+1}\"\n",
    "    name = name.replace(\" \", \"_\").replace(\"/\", \"_\")  # 안전한 파일명\n",
    "    filename = os.path.join(save_dir, f\"{name}.png\")\n",
    "\n",
    "    try:\n",
    "        img_data = requests.get(img_url, verify=False).content\n",
    "        with open(filename, \"wb\") as f:\n",
    "            f.write(img_data)\n",
    "        print(f\"✅ 저장 완료: {filename}\")\n",
    "    except Exception as e:\n",
    "        print(f\"❌ 저장 실패: {img_url} / {e}\")\n"
   ]
  },
  {
   "cell_type": "code",
   "execution_count": null,
   "id": "063a01fd-8209-419a-96f9-31c3a2b8ee61",
   "metadata": {},
   "outputs": [],
   "source": []
  }
 ],
 "metadata": {
  "kernelspec": {
   "display_name": "Python 3 (ipykernel)",
   "language": "python",
   "name": "python3"
  },
  "language_info": {
   "codemirror_mode": {
    "name": "ipython",
    "version": 3
   },
   "file_extension": ".py",
   "mimetype": "text/x-python",
   "name": "python",
   "nbconvert_exporter": "python",
   "pygments_lexer": "ipython3",
   "version": "3.12.9"
  }
 },
 "nbformat": 4,
 "nbformat_minor": 5
}
