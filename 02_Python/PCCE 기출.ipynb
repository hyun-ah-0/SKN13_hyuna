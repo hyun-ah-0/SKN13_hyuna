{
 "cells": [
  {
   "cell_type": "code",
   "execution_count": 9,
   "id": "74395202-eaa8-4c78-8968-fbfb94f168db",
   "metadata": {},
   "outputs": [
    {
     "name": "stdin",
     "output_type": "stream",
     "text": [
      " 4859\n"
     ]
    },
    {
     "name": "stdout",
     "output_type": "stream",
     "text": [
      "107\n"
     ]
    }
   ],
   "source": [
    "# 1\n",
    "number = int(input())\n",
    "\n",
    "answer = 0\n",
    "\n",
    "for i in range(10):\n",
    "    answer += number % 100\n",
    "    number //= 100\n",
    "\n",
    "print(answer)"
   ]
  },
  {
   "cell_type": "code",
   "execution_count": 108,
   "id": "9d93f1f1-85e7-428b-985e-6db5329c6c71",
   "metadata": {},
   "outputs": [
    {
     "name": "stdin",
     "output_type": "stream",
     "text": [
      " 6\n",
      " 9\n"
     ]
    },
    {
     "name": "stdout",
     "output_type": "stream",
     "text": [
      "45\n"
     ]
    }
   ],
   "source": [
    "# 2\n",
    "import numpy\n",
    "a = int(input())\n",
    "c = int(input())\n",
    "\n",
    "b_square = c**2 - a**2\n",
    "print(b_square)"
   ]
  },
  {
   "cell_type": "code",
   "execution_count": 14,
   "id": "3e6d6292-5e9a-4084-b413-4841fccbf0e6",
   "metadata": {},
   "outputs": [
    {
     "name": "stdout",
     "output_type": "stream",
     "text": [
      "Collecting numpy\n",
      "  Downloading numpy-2.2.4-cp312-cp312-win_amd64.whl.metadata (60 kB)\n",
      "Downloading numpy-2.2.4-cp312-cp312-win_amd64.whl (12.6 MB)\n",
      "   ---------------------------------------- 0.0/12.6 MB ? eta -:--:--\n",
      "   ---- ----------------------------------- 1.6/12.6 MB 11.9 MB/s eta 0:00:01\n",
      "   -------------------------------------- - 12.1/12.6 MB 37.7 MB/s eta 0:00:01\n",
      "   ---------------------------------------- 12.6/12.6 MB 33.0 MB/s eta 0:00:00\n",
      "Installing collected packages: numpy\n",
      "Successfully installed numpy-2.2.4\n",
      "Note: you may need to restart the kernel to use updated packages.\n"
     ]
    }
   ],
   "source": [
    "pip install numpy"
   ]
  },
  {
   "cell_type": "code",
   "execution_count": 20,
   "id": "fe20cc99-ba61-4b4b-9670-e90fff579686",
   "metadata": {},
   "outputs": [
    {
     "name": "stdout",
     "output_type": "stream",
     "text": [
      "2025\n"
     ]
    }
   ],
   "source": [
    "from datetime import datetime\n",
    "now = datetime.now()\n",
    "print(now.year)"
   ]
  },
  {
   "cell_type": "code",
   "execution_count": 24,
   "id": "4f495408-3273-4037-a75e-8b033d6b150b",
   "metadata": {},
   "outputs": [
    {
     "name": "stdin",
     "output_type": "stream",
     "text": [
      " 2000\n",
      " Korea\n"
     ]
    },
    {
     "name": "stdout",
     "output_type": "stream",
     "text": [
      "31\n"
     ]
    }
   ],
   "source": [
    "# 3\n",
    "from datetime import datetime\n",
    "year = int(input())\n",
    "age_type = input()\n",
    "\n",
    "if age_type == \"Korea\":\n",
    "    now_age = (2030 - year + 1)\n",
    "else:\n",
    "    now_age = (2030- year)\n",
    "\n",
    "print(now_age)"
   ]
  },
  {
   "cell_type": "code",
   "execution_count": 30,
   "id": "ad130692-d1f0-4951-b1ad-3b9ba7644d91",
   "metadata": {},
   "outputs": [
    {
     "name": "stdin",
     "output_type": "stream",
     "text": [
      " 28\n",
      " 6\n",
      " 8\n"
     ]
    },
    {
     "name": "stdout",
     "output_type": "stream",
     "text": [
      "12\n"
     ]
    }
   ],
   "source": [
    "# 4\n",
    "start = int(input())\n",
    "before = int(input())\n",
    "after = int(input())\n",
    "\n",
    "month = 1\n",
    "money = start\n",
    "while money <70:\n",
    "    money += before\n",
    "    month += 1\n",
    "while money <100:\n",
    "    money += after\n",
    "    month += 1\n",
    "\n",
    "print(month)"
   ]
  },
  {
   "cell_type": "code",
   "execution_count": 38,
   "id": "c2502d86-2f32-4b3f-b52e-55a45ae1af5d",
   "metadata": {},
   "outputs": [
    {
     "name": "stdout",
     "output_type": "stream",
     "text": [
      "[0, 0]\n"
     ]
    }
   ],
   "source": [
    "# 5\n",
    "\n",
    "north = 0\n",
    "east = 0\n",
    "route = \"EESEEWNWSNWWNS\"\t\n",
    "\n",
    "for i in range(len(route)):\n",
    "    if route[i] == \"N\":\n",
    "        north += 1\n",
    "    elif route[i] == \"S\":\n",
    "        north -= 1\n",
    "    elif route[i] == \"E\":\n",
    "        east += 1 \n",
    "    elif route[i] == \"W\":\n",
    "        east -= 1\n",
    "\n",
    "print([north, east])"
   ]
  },
  {
   "cell_type": "code",
   "execution_count": 67,
   "id": "23a8970b-7743-41b7-bb70-c58e6944bd82",
   "metadata": {},
   "outputs": [
    {
     "name": "stdin",
     "output_type": "stream",
     "text": [
      " 3, 4\n",
      " 85, 93\n",
      " 85, 92, 38, 93, 48, 85, 92, 56\n"
     ]
    },
    {
     "name": "stdout",
     "output_type": "stream",
     "text": [
      "['different', 'same']\n"
     ]
    }
   ],
   "source": [
    "# 6\n",
    "numbers = list(map(int, input().split(\",\")))\n",
    "our_score = list(map(int, input().split(\",\")))\n",
    "score_list = list(map(int, input().split(\",\")))\n",
    "answer = []\n",
    "\n",
    "for i in range(len(numbers)):\n",
    "    if our_score[i] == score_list[numbers[i]-1]:\n",
    "        answer.append(\"same\")\n",
    "    else:\n",
    "        answer.append(\"different\")\n",
    "\n",
    "print(answer)\n",
    "\n"
   ]
  },
  {
   "cell_type": "code",
   "execution_count": 69,
   "id": "14ff9acd-e18f-4cd7-85e3-2bb6a0741f38",
   "metadata": {},
   "outputs": [
    {
     "name": "stdin",
     "output_type": "stream",
     "text": [
      " auto\n",
      " 23\n",
      " 45\n"
     ]
    },
    {
     "name": "stdout",
     "output_type": "stream",
     "text": [
      "3\n"
     ]
    }
   ],
   "source": [
    "# 7\n",
    "mode_type = input()\n",
    "humidity = int(input())\n",
    "val_set = int(input())\n",
    "\n",
    "\n",
    "def auto(humidity):\n",
    "    if 0 <= humidity < 10:\n",
    "        return 5\n",
    "    elif  10 <= humidity < 20:\n",
    "        return 4\n",
    "    elif  20 <= humidity < 30:\n",
    "        return 3\n",
    "    elif  30 <= humidity < 40:\n",
    "        return 2\n",
    "    elif  40 <= humidity < 50:\n",
    "        return 1\n",
    "    elif  50 <= humidity:\n",
    "        return 0\n",
    "\n",
    "\n",
    "def target(humidity, val_target):\n",
    "    if humidity < val_target:\n",
    "        return 3\n",
    "    else:\n",
    "        return 1\n",
    "\n",
    "\n",
    "def target(humidity, val_target):\n",
    "    if humidity < val_target:\n",
    "        return 1\n",
    "    else:\n",
    "        return 0\n",
    "\n",
    "        \n",
    "if mode_type == \"auto\":\n",
    "    answer = auto(humidity)\n",
    "elif mode_type == \"target\":\n",
    "    answer = target(humidity, val_target)\n",
    "elif mode_type == \"minimum\":\n",
    "    answer = minimum(humidity, val_target)\n",
    "print(answer)\n"
   ]
  },
  {
   "cell_type": "code",
   "execution_count": 12,
   "id": "5fd46ef0-caf9-46ab-a5b8-f081d520908c",
   "metadata": {},
   "outputs": [
    {
     "name": "stdout",
     "output_type": "stream",
     "text": [
      "[8, 2, 5]\n",
      "mirror\n"
     ]
    }
   ],
   "source": [
    "# 8\n",
    "storage = [\"mirror\", \"net\", \"mirror\", \"net\", \"bottle\"]\n",
    "num = [4, 1, 4, 1, 5]\n",
    "\n",
    "\n",
    "clean_storage = []\n",
    "clean_num = []\n",
    "for i in range(len(storage)):\n",
    "    if storage[i] not in clean_storage:\n",
    "        clean_storage.append(storage[i])\n",
    "        clean_num.append(num[i])\n",
    "    else:\n",
    "        pos = clean_storage.index(storage[i])\n",
    "        clean_num[pos] += num[i]\n",
    "\n",
    "max_index = 0\n",
    "for i in range(len(clean_storage)):\n",
    "    if clean_num[i] > max:\n",
    "        max = clean_num[i]\n",
    "        max_index = i\n",
    "\n",
    "print(clean_storage[max_index])\n",
    "\n"
   ]
  },
  {
   "cell_type": "code",
   "execution_count": 36,
   "id": "98c3ee38-97c8-4c72-b060-1a5811455c40",
   "metadata": {},
   "outputs": [
    {
     "name": "stdin",
     "output_type": "stream",
     "text": [
      " [[\"yellow\", \"green\", \"blue\"], [\"blue\", \"green\", \"yellow\"], [\"yellow\", \"blue\", \"blue\"]]\n",
      " 0\n",
      " 1\n"
     ]
    },
    {
     "name": "stdout",
     "output_type": "stream",
     "text": [
      "1\n"
     ]
    }
   ],
   "source": [
    "# 9\n",
    "n = list(input().split(\",\"))\n",
    "h = int(input())\n",
    "w = int(input())\n",
    "\n",
    "n = len(board)\n",
    "center = board[h][w]\n",
    "count = 0 \n",
    "dh = [0, 1, -1, 0]\n",
    "dw = [1, 0, 0, -1]\n",
    "check = []\n",
    "\n",
    "for i in range(len(board)):\n",
    "    h_check = dh[i] + h\n",
    "    w_check = dw[i] + w\n",
    "    check.append(board[h_check][w_check])\n",
    "    if check[i] == center:\n",
    "        count += 1\n",
    "\n",
    "print(count)"
   ]
  },
  {
   "cell_type": "code",
   "execution_count": 74,
   "id": "74fd2d95-d55c-41a2-a6ce-f6928c56ec89",
   "metadata": {},
   "outputs": [
    {
     "name": "stdin",
     "output_type": "stream",
     "text": [
      " code\n",
      " 3\n",
      " remain\n"
     ]
    },
    {
     "name": "stdout",
     "output_type": "stream",
     "text": [
      "[[2, 20300804, 847, 37], [1, 20300104, 100, 80]]\n"
     ]
    }
   ],
   "source": [
    "# 10\n",
    "# 으앙 뭐라는거야\n",
    "data = [[1, 20300104, 100, 80], [2, 20300804, 847, 37], [3, 20300401, 10, 8]]\n",
    "ext = input()\n",
    "val_ext = int(input())\n",
    "sort_by = input()\n",
    "\n",
    "\n",
    "standard = [\"code\", \"date\", \"maximum\", \"remain\"]\n",
    "sort_data = []\n",
    "\n",
    "if ext == standard[0]:\n",
    "    i = 0\n",
    "    for j in range(len(data)):\n",
    "        if data[j][i] < val_ext:\n",
    "            sort_data.append(data[j])\n",
    "elif ext == \"date\":\n",
    "    i = 1\n",
    "    for j in range(len(data)):\n",
    "        if data[j][i] < val_ext:\n",
    "            sort_data.append(data[j])\n",
    "elif ext == \"maximum\":\n",
    "    i = 2\n",
    "    for j in range(len(data)):\n",
    "        if data[j][i] < val_ext:\n",
    "            sort_data.append(data[j])\n",
    "elif ext == \"remain\":\n",
    "    i = 3\n",
    "    for j in range(len(data)):\n",
    "        if data[j][i] < val_ext:\n",
    "            sort_data.append(data[j])\n",
    "\n",
    "\n",
    "if sort_by == \"code\":\n",
    "    i = 0\n",
    "elif sort_by == \"date\":\n",
    "    i = 1\n",
    "elif sort_by == \"maximum\":\n",
    "    i = 2\n",
    "elif sort_by == \"remain\":\n",
    "    i = 3\n",
    "\n",
    "sort_data = sorted(sort_data, key = lambda x: x[i], reverse = False)\n",
    "print(sort_data)"
   ]
  },
  {
   "cell_type": "code",
   "execution_count": 82,
   "id": "5daeff98-f0f3-4ff5-a2f6-68653d90b1d8",
   "metadata": {},
   "outputs": [
    {
     "name": "stdin",
     "output_type": "stream",
     "text": [
      " date\n",
      " 20300501\n",
      " remain\n"
     ]
    },
    {
     "name": "stdout",
     "output_type": "stream",
     "text": [
      "[[3, 20300401, 10, 8], [1, 20300104, 100, 80]]\n"
     ]
    }
   ],
   "source": [
    "# 10\n",
    "data = [[1, 20300104, 100, 80], [2, 20300804, 847, 37], [3, 20300401, 10, 8]]\n",
    "ext = input()\n",
    "val_ext = int(input())\n",
    "sort_by = input()\n",
    "\n",
    "\n",
    "standard = [\"code\", \"date\", \"maximum\", \"remain\"]\n",
    "sort_data = []\n",
    "\n",
    "for i in range(len(standard)):\n",
    "    if ext == standard[i]:\n",
    "        for j in range(len(data)):\n",
    "            if data[j][i] < val_ext:\n",
    "                sort_data.append(data[j])\n",
    "\n",
    "\n",
    "for i in range(len(standard)):\n",
    "    if sort_by == standard[i]:\n",
    "        sort_data = sorted(sort_data, key = lambda x: x[i], reverse = False)\n",
    "\n",
    "print(sort_data)"
   ]
  }
 ],
 "metadata": {
  "kernelspec": {
   "display_name": "Python 3 (ipykernel)",
   "language": "python",
   "name": "python3"
  },
  "language_info": {
   "codemirror_mode": {
    "name": "ipython",
    "version": 3
   },
   "file_extension": ".py",
   "mimetype": "text/x-python",
   "name": "python",
   "nbconvert_exporter": "python",
   "pygments_lexer": "ipython3",
   "version": "3.12.9"
  }
 },
 "nbformat": 4,
 "nbformat_minor": 5
}
