{
 "cells": [
  {
   "cell_type": "code",
   "execution_count": 4,
   "id": "845f1c79-4d75-47cf-ba30-164ce885aa2a",
   "metadata": {},
   "outputs": [
    {
     "data": {
      "text/plain": [
       "19000"
      ]
     },
     "execution_count": 4,
     "metadata": {},
     "output_type": "execute_result"
    }
   ],
   "source": [
    "order = [\"cafelatte\", \"americanoice\", \"hotcafelatte\", \"anything\"]\n",
    "price = 0\n",
    "\n",
    "def solution(order):\n",
    "    price = 0\n",
    "    for i in range(len(order)):\n",
    "        if \"latte\" in order[i]:\n",
    "            price += 5000\n",
    "        else:\n",
    "            price += 4500\n",
    "    answer = price\n",
    "    return answer\n",
    "\n",
    "solution([\"cafelatte\", \"americanoice\", \"hotcafelatte\", \"anything\"])"
   ]
  },
  {
   "cell_type": "code",
   "execution_count": 67,
   "id": "e1caac63-883a-4641-9bde-2b2ce458afb9",
   "metadata": {},
   "outputs": [
    {
     "data": {
      "text/plain": [
       "3.5"
      ]
     },
     "execution_count": 67,
     "metadata": {},
     "output_type": "execute_result"
    }
   ],
   "source": [
    "7 / 2"
   ]
  },
  {
   "cell_type": "code",
   "execution_count": 34,
   "id": "236a6f6c-cfa7-4c30-9dd4-0a502a09e5e6",
   "metadata": {},
   "outputs": [
    {
     "name": "stdout",
     "output_type": "stream",
     "text": [
      "5\n"
     ]
    }
   ],
   "source": [
    "# https://school.programmers.co.kr/learn/courses/30/lessons/181881\n",
    "array = [1, 2, 3, 100, 99, 98]\n",
    "answer = 0\n",
    "\n",
    "\n",
    "for j in range(10):\n",
    "\n",
    "    pos = list(array)\n",
    "    for i in range(len(array)):\n",
    "        \n",
    "        if array[i] % 2 == 0 and array[i] >= 50:\n",
    "            array[i] = array[i] // 2\n",
    "        elif array[i] < 50 and array[i] % 2 == 1:\n",
    "            array[i] = array[i] * 2 + 1\n",
    "    \n",
    "\n",
    "    if pos == array:\n",
    "        break\n",
    "    \n",
    "    answer += 1\n",
    "\n",
    "    \n",
    "\n",
    "print(answer)\n"
   ]
  },
  {
   "cell_type": "code",
   "execution_count": 89,
   "id": "403a01c4-13d5-4025-bb4a-f8d9cd046e27",
   "metadata": {},
   "outputs": [
    {
     "name": "stdout",
     "output_type": "stream",
     "text": [
      "[0, 0, 0] [4, 3, 3] [1, 2, 3]\n",
      "[1, 2, 3, 5, 4]\n"
     ]
    }
   ],
   "source": [
    "# https://school.programmers.co.kr/learn/courses/30/lessons/181859\n",
    "# 0의 배수에서 에러남\n",
    "arr = [0, 1, 2, 4, 3]\n",
    "queries = [[0, 4, 1],[0, 3, 2],[0, 3, 3]]\n",
    "\n",
    "s = []\n",
    "e = []\n",
    "k = []\n",
    "\n",
    "for j in range(3):\n",
    "    pos = [s,e,k]\n",
    "    for i in range(len(queries)):\n",
    "        pos[j].append(queries[i][j])\n",
    "\n",
    "print(s,e,k)\n",
    "\n",
    "\n",
    "pos = []\n",
    "\n",
    "for j in range(len(arr)):\n",
    "    if s[0] <= e[0] and k[0] % s:\n",
    "        pos.append(j)\n",
    "for j in range(len(pos)):\n",
    "    arr[j] += 1\n",
    "\n",
    "print(arr)\n",
    "\n",
    "\n",
    "\n",
    "# if s[0] <= e[0]:\n",
    "    \n",
    "# for i in range(5):\n",
    "#     if (s[0] + 1) % k[0] == 0:\n",
    "#         arr[0] += 1\n",
    "#         s[0] += 1\n",
    "#     if s[0] > e[0]:\n",
    "#         break\n",
    "\n",
    "#     else:\n",
    "#         s[0] += 1\n",
    "#     if s[0] > e[0]:\n",
    "#         break\n",
    "\n",
    "    \n",
    "    \n",
    "# while s < e:\n",
    "#     if k[i] % s[i] + 1 == 0:\n",
    "        \n",
    "\n",
    "# for i in range(5):\n",
    "#     if s[i] < e[i] and k[i] % s[i] == 0:\n",
    "#         arr[i] += 1\n",
    "#         s[i] += 1\n",
    "#     elif s[i] < e[i]:\n",
    "#         s[i] += 1\n",
    "#     else:\n",
    "#         break\n",
    "    \n"
   ]
  },
  {
   "cell_type": "code",
   "execution_count": 113,
   "id": "05acd4aa-efce-481e-b648-c1dd417fcf6d",
   "metadata": {},
   "outputs": [
    {
     "name": "stdout",
     "output_type": "stream",
     "text": [
      "[-1]\n"
     ]
    }
   ],
   "source": [
    "# https://school.programmers.co.kr/learn/courses/30/lessons/181859\n",
    "i = 0\n",
    "stk =[] \n",
    "arr = [0, 1, 1, 0]\n",
    "\n",
    "while i < len(arr):\n",
    "    if stk == []:\n",
    "        stk.append(arr[i])\n",
    "        i += 1\n",
    "\n",
    "    else:\n",
    "        if stk[-1] == arr[i]:\n",
    "            stk.pop(-1)\n",
    "            i += 1\n",
    "        else:\n",
    "            stk.append(arr[i])\n",
    "            i += 1\n",
    "\n",
    "if stk == []:\n",
    "    print([-1])\n",
    "else:\n",
    "    print(stk)"
   ]
  },
  {
   "cell_type": "code",
   "execution_count": 124,
   "id": "678bdc28-4b2f-417e-871e-fb36b1c42175",
   "metadata": {},
   "outputs": [
    {
     "name": "stdout",
     "output_type": "stream",
     "text": [
      "[]\n"
     ]
    }
   ],
   "source": [
    "#https://school.programmers.co.kr/learn/courses/30/lessons/181890\n",
    "str_list = [\"u\", \"u\"]\n",
    "\n",
    "\n",
    "for i in range(len(str_list)):\n",
    "    if str_list[i] == \"l\":\n",
    "        print(str_list[:i])\n",
    "        break\n",
    "    elif str_list[i] == \"r\":\n",
    "        print(str_list[i:])\n",
    "        break\n",
    "    else:\n",
    "        i += 1\n",
    "        if i == len(str_list):\n",
    "            print([])\n",
    "            break\n"
   ]
  },
  {
   "cell_type": "code",
   "execution_count": 201,
   "id": "5edf6dd0-0b8d-406d-a23d-079cd4188bb2",
   "metadata": {},
   "outputs": [
    {
     "name": "stdin",
     "output_type": "stream",
     "text": [
      " Programmers\n"
     ]
    },
    {
     "name": "stdout",
     "output_type": "stream",
     "text": [
      "[0, 0, 0, 0, 0, 0, 0, 0, 0, 0, 0, 0, 0, 0, 0, 1, 0, 0, 0, 0, 0, 0, 0, 0, 0, 0, 1, 0, 0, 0, 1, 0, 1, 0, 0, 0, 0, 0, 2, 0, 1, 0, 0, 3, 1, 0, 0, 0, 0, 0, 0, 0]\n"
     ]
    }
   ],
   "source": [
    "# https://school.programmers.co.kr/learn/courses/30/lessons/181902\n",
    "my_string = input()\n",
    "answer = [0] * 52\n",
    "\n",
    "for i in range(len(my_string)):\n",
    "    pos = ord(my_string[i]) - 65\n",
    "    # 91~96 알파벳 아님\n",
    "    if pos > 31:\n",
    "        pos = pos - 6\n",
    "    answer[pos] += 1\n",
    "\n",
    "\n",
    "print(answer)"
   ]
  },
  {
   "cell_type": "code",
   "execution_count": 213,
   "id": "79528767-88b8-470f-a541-51ceec0dd05e",
   "metadata": {},
   "outputs": [
    {
     "name": "stdin",
     "output_type": "stream",
     "text": [
      " 20\n",
      " 50\n",
      " <\n",
      " !\n"
     ]
    },
    {
     "name": "stdout",
     "output_type": "stream",
     "text": [
      "1\n"
     ]
    }
   ],
   "source": [
    "# https://school.programmers.co.kr/learn/courses/30/lessons/181934\n",
    "n = int(input())\n",
    "m = int(input())\n",
    "\n",
    "ineq = input()\n",
    "eq = input()\n",
    "\n",
    "if ineq == \">\":\n",
    "    if n >= m and eq == \"=\":\n",
    "        print(1)\n",
    "    elif n > m:\n",
    "        print(1)\n",
    "    else:\n",
    "        print(0)\n",
    "else:\n",
    "    if n <= m and eq == \"=\":\n",
    "        print(1)\n",
    "    elif n < m:\n",
    "        print(1)\n",
    "    else:\n",
    "        print(0)\n",
    "\n"
   ]
  },
  {
   "cell_type": "code",
   "execution_count": 216,
   "id": "8a406ef9-1845-4d87-9446-ef23c08bb5f2",
   "metadata": {},
   "outputs": [
    {
     "data": {
      "text/plain": [
       "305793246910280479981"
      ]
     },
     "execution_count": 216,
     "metadata": {},
     "output_type": "execute_result"
    }
   ],
   "source": [
    "# https://school.programmers.co.kr/learn/courses/30/lessons/181846\n",
    "def solution(a, b):\n",
    "    a = int(a)\n",
    "    b = int(b)\n",
    "    answer = a + b\n",
    "    return answer\n",
    "\n",
    "solution(\"18446744073709551615\", \"287346502836570928366\")"
   ]
  },
  {
   "cell_type": "code",
   "execution_count": 224,
   "id": "1d1c1a75-0897-4674-a4b9-0a479caf25b8",
   "metadata": {},
   "outputs": [
    {
     "name": "stdout",
     "output_type": "stream",
     "text": [
      "[0, 1, -1, -1]\n"
     ]
    }
   ],
   "source": [
    "# https://school.programmers.co.kr/learn/courses/30/lessons/181858\n",
    "arr = [0, 1, 1, 1, 1]\n",
    "k = 4\n",
    "# answer = [0, 1, 2]\n",
    "answer = []\n",
    "\n",
    "for i in range(k+1):\n",
    "    if arr[i] not in answer:\n",
    "        answer.append(arr[i])\n",
    "\n",
    "while len(answer) < k:\n",
    "    answer.append(-1)\n",
    "\n",
    "print(answer)"
   ]
  },
  {
   "cell_type": "code",
   "execution_count": 252,
   "id": "e8caf2f7-8379-4de5-b78c-a67b9c9780d4",
   "metadata": {},
   "outputs": [
    {
     "data": {
      "text/plain": [
       "[[1, 2], [3, 4]]"
      ]
     },
     "execution_count": 252,
     "metadata": {},
     "output_type": "execute_result"
    }
   ],
   "source": [
    "# https://school.programmers.co.kr/learn/courses/30/lessons/181830\n",
    "def solution(arr):\n",
    "    row = len(arr)\n",
    "    col = len(arr[0])\n",
    "\n",
    "    if row > col:\n",
    "        for i in range(row):\n",
    "            arr[i].append(0)\n",
    "            while col == row:\n",
    "                break\n",
    "                \n",
    "    elif row < col:\n",
    "        for i in range(col):\n",
    "            arr.append([0]*col)\n",
    "            while row == col:\n",
    "                break\n",
    "\n",
    "    else:\n",
    "        return arr\n",
    "    answer = arr\n",
    "    return answer\n",
    "\n",
    "solution([[1, 2], [3, 4]])"
   ]
  },
  {
   "cell_type": "code",
   "execution_count": 272,
   "id": "1d9eaa53-b29f-4061-b2c8-c9f2e0b00c29",
   "metadata": {},
   "outputs": [
    {
     "data": {
      "text/plain": [
       "'HelloWorld'"
      ]
     },
     "execution_count": 272,
     "metadata": {},
     "output_type": "execute_result"
    }
   ],
   "source": [
    "# https://school.programmers.co.kr/learn/courses/30/lessons/181943\n",
    "\n",
    "def solution(my_string, overwrite_string, s):\n",
    "    l = len(overwrite_string)\n",
    "    string = my_string[:s] + overwrite_string\n",
    "    if len(string) < len(my_string):\n",
    "        answer = string + my_string[s+l:]\n",
    "    else:\n",
    "        answer = string\n",
    "    \n",
    "    return answer\n",
    "\n",
    "solution(\"He11oWor1d\", \"lloWorl\", 2)"
   ]
  },
  {
   "cell_type": "code",
   "execution_count": 274,
   "id": "190c9c98-0472-416a-a779-d971ee2e857a",
   "metadata": {},
   "outputs": [
    {
     "name": "stdin",
     "output_type": "stream",
     "text": [
      " 4 5\n"
     ]
    },
    {
     "name": "stdout",
     "output_type": "stream",
     "text": [
      "a = 4\n",
      "b = 5\n"
     ]
    }
   ],
   "source": [
    "# https://school.programmers.co.kr/learn/courses/30/lessons/181951\n",
    "a, b = map(int, input().strip().split(' '))\n",
    "print(\"a =\",a)\n",
    "print(\"b =\",b)\n"
   ]
  },
  {
   "cell_type": "code",
   "execution_count": 140,
   "id": "3815a417-9207-4e3f-831c-50ab128a1b03",
   "metadata": {},
   "outputs": [
    {
     "name": "stdout",
     "output_type": "stream",
     "text": [
      "..xxxx......xxxx..xx....xx..xx....xxxx......xx......xx..xx..........xx......xx......xx..........xx..xx..............xx........\n"
     ]
    }
   ],
   "source": [
    "# https://school.programmers.co.kr/learn/courses/30/lessons/181836\n",
    "# 미해결\n",
    "# def solution(picture, k):\n",
    "#     answer = []\n",
    "#     for i in range(len(picture)):\n",
    "#         for j in range(len(picture[i])):\n",
    "#             answer.append(picture[i][j-1] * 2)\n",
    "#          answer.append(pricture[i-1] *2)       \n",
    "#     return answer\n",
    "    \n",
    "\n",
    "\n",
    "a = [\".xx...xx.\", \"x..x.x..x\", \"x...x...x\", \".x.....x.\", \"..x...x..\", \"...x.x...\", \"....x....\"]\n",
    "\n",
    "\n",
    "# for i in range(len(a)):\n",
    "#     a[i] *= 2\n",
    "#     print(a[i])\n",
    "\n",
    "c = []\n",
    "# for i in range(len(a[0])):\n",
    "#     b = a[0][i] + a[0][i]\n",
    "\n",
    "#     c.append(b)\n",
    "# print(c)\n",
    "\n",
    "for j in range(len(a)):\n",
    "    for i in range(len(a[j])):\n",
    "        c.extend((a[j][i], a[j][i]))\n",
    "c = ''.join(c)\n",
    "\n",
    "# d = []\n",
    "# for k in range(len(a)):\n",
    "#     d.append(result[:len(a[k]*2)])\n",
    "# for k in range(len(a)):    \n",
    "#     d.append(result[len(a[k]*2):])\n",
    "\n",
    "print(c)"
   ]
  },
  {
   "cell_type": "code",
   "execution_count": 187,
   "id": "d61e2baf-ac3c-49e1-b878-4d5d04413ed4",
   "metadata": {},
   "outputs": [
    {
     "data": {
      "text/plain": [
       "50200"
      ]
     },
     "execution_count": 187,
     "metadata": {},
     "output_type": "execute_result"
    }
   ],
   "source": [
    "# https://school.programmers.co.kr/learn/courses/30/lessons/181851\n",
    "def solution(rank, attendance):\n",
    "    attendance_true = []\n",
    "    for i in range(len(attendance)):\n",
    "        if attendance[i] == True:\n",
    "            attendance_true.append(i)\n",
    "\n",
    "    rank_student = []\n",
    "    for i in range(len(attendance_true)):\n",
    "        i = attendance_true[i]\n",
    "        rank_student.append(rank[i])\n",
    "    rank_student = sorted(rank_student, reverse=False)\n",
    "\n",
    "    rank_index = []\n",
    "    for i in range(len(rank_student)):\n",
    "        pos = rank_student[i]\n",
    "        for j in range(len(rank)):\n",
    "            if rank[j] == pos:\n",
    "                rank_index.append(j)\n",
    "\n",
    "    answer = 10000*rank_index[0] + 100*rank_index[1] + rank_index[2]\n",
    "    return answer\n",
    "\n",
    "solution([6, 1, 5, 2, 3, 4], [True, False, True, False, False, True])"
   ]
  },
  {
   "cell_type": "code",
   "execution_count": 190,
   "id": "31b13dde-8d2f-4188-9890-0cf05078149d",
   "metadata": {},
   "outputs": [
    {
     "name": "stdin",
     "output_type": "stream",
     "text": [
      " aBcDeFg\n"
     ]
    },
    {
     "name": "stdout",
     "output_type": "stream",
     "text": [
      "AbCdEfG\n"
     ]
    }
   ],
   "source": [
    "# https://school.programmers.co.kr/learn/courses/30/lessons/181949\n",
    "str = input()\n",
    "\n",
    "result = str.swapcase()\n",
    "print(result)"
   ]
  },
  {
   "cell_type": "code",
   "execution_count": 208,
   "id": "7c85d038-1425-41ce-80a7-6a4b31c1ca56",
   "metadata": {},
   "outputs": [
    {
     "name": "stdout",
     "output_type": "stream",
     "text": [
      "[5, 50, 55]\n"
     ]
    }
   ],
   "source": [
    "# https://school.programmers.co.kr/learn/courses/30/lessons/181921\n",
    "# 도움 받\n",
    "l = 5\n",
    "r = 55\n",
    "\n",
    "\n",
    "result = []\n",
    "for i in range(l,r+1):\n",
    "    if set(str(i)) <= {'0', '5'}:\n",
    "        result.append(i)\n",
    "\n",
    "if len(result) < 1:\n",
    "    result = [-1]\n",
    "print(result)"
   ]
  },
  {
   "cell_type": "code",
   "execution_count": 209,
   "id": "310d35e1-922f-4c57-82e7-0c1842c0ee1e",
   "metadata": {},
   "outputs": [
    {
     "name": "stdout",
     "output_type": "stream",
     "text": [
      "a\n"
     ]
    }
   ],
   "source": [
    "int = \"abc1abc1abc\"\n",
    "print(int[0])"
   ]
  },
  {
   "cell_type": "code",
   "execution_count": 12,
   "id": "7e7ff072-fc53-49ba-bb2b-0c9878618743",
   "metadata": {},
   "outputs": [
    {
     "name": "stdout",
     "output_type": "stream",
     "text": [
      "acbac\n"
     ]
    }
   ],
   "source": [
    "# https://school.programmers.co.kr/learn/courses/30/lessons/181932\n",
    "mode = 0\n",
    "code = \"abc1abc1abc\"\n",
    "answer = ''\n",
    "\n",
    "for i in range(len(code)):\n",
    "    if mode == 0:\n",
    "        if code[i] == '1':\n",
    "            mode = 1\n",
    "            \n",
    "        else:\n",
    "            if i % 2 == 0:\n",
    "                answer += code[i]   \n",
    "    \n",
    "    elif mode == 1:\n",
    "        if code[i] == '1':\n",
    "            mode = 0\n",
    "           \n",
    "        else:\n",
    "            if i % 2 == 1:\n",
    "                answer += code[i]\n",
    "    \n",
    "    i += 1        \n",
    "                    \n",
    "if len(answer) < 1:\n",
    "    print(\"EMPTY\")\n",
    "else:\n",
    "    print(answer)"
   ]
  },
  {
   "cell_type": "code",
   "execution_count": 23,
   "id": "1ff4563b-9039-496a-a223-2eabd7a17d4d",
   "metadata": {},
   "outputs": [
    {
     "name": "stdout",
     "output_type": "stream",
     "text": [
      "[1, 2, 3]\n"
     ]
    }
   ],
   "source": [
    "# https://school.programmers.co.kr/learn/courses/30/lessons/181893\n",
    "arr = [0, 1, 2, 3, 4, 5]\n",
    "query = [4, 1, 2]\n",
    "\n",
    "def solution(arr, query):\n",
    "    answer = arr\n",
    "    for i in range(len(query)):\n",
    "    if i % 2 == 0:\n",
    "        index = query[i] + 1\n",
    "        del result[index:]\n",
    "        \n",
    "    elif i % 2 == 1:\n",
    "        index = query[i]\n",
    "        del result[:index]\n",
    "        \n",
    "    i += 1\n",
    "    \n",
    "    return answer\n",
    "print(result)"
   ]
  },
  {
   "cell_type": "code",
   "execution_count": 48,
   "id": "6bd52dbf-8f97-4903-9624-0ffa5a0a686a",
   "metadata": {},
   "outputs": [
    {
     "name": "stdout",
     "output_type": "stream",
     "text": [
      "1\n"
     ]
    }
   ],
   "source": [
    "a = [1, 5, 1, 1]\n",
    "a_1 = a.count(a[0])\n",
    "b = min(a)\n",
    "\n",
    "print(b)"
   ]
  },
  {
   "cell_type": "code",
   "execution_count": 65,
   "id": "fc6a83d2-5b47-45e0-8bb1-4dde43b7310a",
   "metadata": {},
   "outputs": [
    {
     "ename": "NameError",
     "evalue": "name 'solution' is not defined",
     "output_type": "error",
     "traceback": [
      "\u001b[31m---------------------------------------------------------------------------\u001b[39m",
      "\u001b[31mNameError\u001b[39m                                 Traceback (most recent call last)",
      "\u001b[36mCell\u001b[39m\u001b[36m \u001b[39m\u001b[32mIn[65]\u001b[39m\u001b[32m, line 58\u001b[39m\n\u001b[32m     54\u001b[39m             score = \u001b[38;5;28mmin\u001b[39m(num)\n\u001b[32m     56\u001b[39m     \u001b[38;5;28;01mreturn\u001b[39;00m score\n\u001b[32m---> \u001b[39m\u001b[32m58\u001b[39m \u001b[43msolution\u001b[49m(\u001b[32m6\u001b[39m, \u001b[32m3\u001b[39m, \u001b[32m3\u001b[39m, \u001b[32m6\u001b[39m)\n",
      "\u001b[31mNameError\u001b[39m: name 'solution' is not defined"
     ]
    }
   ],
   "source": [
    "# https://school.programmers.co.kr/learn/courses/30/lessons/18191\n",
    "# chatgpt 돌려볼\n",
    "\n",
    "\n",
    "def soultion(a, b, c, d):\n",
    "    num = [a, b, c, d]\n",
    "    for i in range(len(num)):\n",
    "        if len(set(num)) == 1:\n",
    "            score = 1111 * num[0]\n",
    "\n",
    "        elif len(set(num)) == 2:\n",
    "            count_1 = num.count(num[0])\n",
    "            count_2 = len(num) - count_1\n",
    "\n",
    "            pos_1 = [num[0]]\n",
    "            pos_2 =[]\n",
    "        \n",
    "            for i in range(1,len(num)):\n",
    "                if num[i] in pos_1:\n",
    "                    pos_1.append(num[i])\n",
    "                else:\n",
    "                    pos_2.append(num[i])\n",
    "\n",
    "        \n",
    "            if count_1 > count_2:\n",
    "                score = (10 * pos_1[0] + pos_2[0]) ** 2\n",
    "            \n",
    "            elif count_2 > count_1:\n",
    "                score =  (10 * pos_2[0] + pos_2[0]) ** 2\n",
    "            \n",
    "            else:\n",
    "                score =  (pos_1[0] + pos_2[0]) * abs(pos_1[0] - pos_2[0])\n",
    "\n",
    "        elif len(set(num)) == 3:\n",
    "            pos_1 = [num[0]]\n",
    "            pos_2 =[]\n",
    "            pos_3 =[]\n",
    "        \n",
    "            for i in range(1,len(num)):\n",
    "                if num[i] in pos_1:\n",
    "                    pos_1.append(num[i])\n",
    "                elif num[i] in pos_2:\n",
    "                    pos_2.append(num[i])\n",
    "                else:\n",
    "                    pos_3.append(num[i])\n",
    "            for i in range(3):\n",
    "                if len(pos_1) == 3:\n",
    "                    score = pos_2[0] * pos_3[0]\n",
    "                elif len(pos_2) == 3:\n",
    "                    score = pos_1[0] * pos_3[0]\n",
    "                if len(pos_1) == 3:\n",
    "                    score = pos_2[0] * pos_3[0]\n",
    "        else:\n",
    "            score = min(num)\n",
    "\n",
    "    return score\n",
    "    \n",
    "solution(6, 3, 3, 6)"
   ]
  },
  {
   "cell_type": "code",
   "execution_count": null,
   "id": "8b7378c0-30ab-4989-8e32-70461bbe4e35",
   "metadata": {},
   "outputs": [],
   "source": [
    "# https://school.programmers.co.kr/learn/courses/30/lessons/181832\n",
    "\n"
   ]
  },
  {
   "cell_type": "code",
   "execution_count": 15,
   "id": "5e05f326-fe6e-44c8-932a-fe44a98d25cb",
   "metadata": {},
   "outputs": [
    {
     "name": "stdout",
     "output_type": "stream",
     "text": [
      "201\n"
     ]
    }
   ],
   "source": [
    "# https://school.programmers.co.kr/learn/courses/30/lessons/120837\n",
    "hp = 999\n",
    "a_count = hp // 5\n",
    "b_count = (hp % 5) // 3\n",
    "c_count = hp - 5*a_count - 3*b_count\n",
    "# c_count = (hp % 5) % 3\n",
    "count = a_count + b_count + c_count\n",
    "print(count)\n"
   ]
  },
  {
   "cell_type": "code",
   "execution_count": 16,
   "id": "6cc2fce3-30c0-4427-a997-f33fce06809c",
   "metadata": {},
   "outputs": [],
   "source": [
    "# https://school.programmers.co.kr/learn/courses/30/lessons/120839\n",
    "\n",
    "rsp = \"052\"\n",
    "answer = ''\n",
    "for i in range(len(rsp)):\n",
    "    if rsp[i] == \"0\":\n",
    "        answer += \"5\"\n",
    "    elif rsp[i] == \"2\":\n",
    "        answer += \"0\"\n",
    "    else:\n",
    "        answer += \"2\""
   ]
  },
  {
   "cell_type": "code",
   "execution_count": 26,
   "id": "725cafab-3e6d-45e0-8357-89a791fdc977",
   "metadata": {},
   "outputs": [
    {
     "name": "stdout",
     "output_type": "stream",
     "text": [
      "12\n"
     ]
    }
   ],
   "source": [
    "# https://school.programmers.co.kr/learn/courses/30/lessons/120845\n",
    "for i in range(len(box)):\n",
    "    answer *= box[i] // n\n",
    "print(answer)"
   ]
  },
  {
   "cell_type": "code",
   "execution_count": 55,
   "id": "70636e4b-9178-4bbc-a80b-a18399545eaf",
   "metadata": {},
   "outputs": [
    {
     "name": "stdout",
     "output_type": "stream",
     "text": [
      "[1, 2, 2, 3, 9]\n"
     ]
    }
   ],
   "source": [
    "# https://school.programmers.co.kr/learn/courses/30/lessons/120850\n",
    "# \"hi12392\"\t[1, 2, 2, 3, 9]\n",
    "input = \"hi12392\"\n",
    "answer = []\n",
    "for i in range(len(input)):\n",
    "    if input[i] == \"0\":\n",
    "        answer.append(0)\n",
    "    elif input[i] == \"1\":\n",
    "        answer.append(1)\n",
    "    elif input[i] == \"2\":\n",
    "        answer.append(2)\n",
    "    elif input[i] == \"3\":\n",
    "        answer.append(3)\n",
    "    elif input[i] == \"4\":\n",
    "        answer.append(4)\n",
    "    elif input[i] == \"5\":\n",
    "        answer.append(5)\n",
    "    elif input[i] == \"6\":\n",
    "        answer.append(6)\n",
    "    elif input[i] == \"7\":\n",
    "        answer.append(7)\n",
    "    elif input[i] == \"8\":\n",
    "        answer.append(8)\n",
    "    elif input[i] == \"9\":\n",
    "        answer.append(9)\n",
    "\n",
    "answer = sorted(answer)\n",
    "print(answer)"
   ]
  },
  {
   "cell_type": "code",
   "execution_count": 57,
   "id": "57f3c1b4-cad6-4c14-b9a7-5f37e7e06a86",
   "metadata": {},
   "outputs": [
    {
     "name": "stdout",
     "output_type": "stream",
     "text": [
      "[1, 2, 2, 3, 9]\n"
     ]
    }
   ],
   "source": [
    "my_string = \"hi12392\"\n",
    "answer = []\n",
    "for i in range(len(my_string)):\n",
    "    if my_string[i].isdigit() == True:\n",
    "        answer.append(int(my_string[i]))\n",
    "answer.sort()\n",
    "print(answer)"
   ]
  },
  {
   "cell_type": "code",
   "execution_count": 68,
   "id": "e9c938df-35bf-4e2e-b0e6-4001cc3e9092",
   "metadata": {},
   "outputs": [
    {
     "name": "stdout",
     "output_type": "stream",
     "text": [
      "15\n"
     ]
    }
   ],
   "source": [
    "# https://school.programmers.co.kr/learn/courses/30/lessons/120862\n",
    "numbers = [1, 2, -3, 4, -5]\n",
    "answer = []\n",
    "for j in range(len(numbers)):\n",
    "    for i in range(len(numbers)):\n",
    "        if j != i:\n",
    "            answer.append(numbers[j] * numbers[i])\n",
    "print(max(answer))"
   ]
  },
  {
   "cell_type": "code",
   "execution_count": 89,
   "id": "b9a7eaee-64a2-4b23-a6cc-01e2bc37b4cc",
   "metadata": {},
   "outputs": [
    {
     "name": "stdout",
     "output_type": "stream",
     "text": [
      "24\n",
      "attack\n"
     ]
    }
   ],
   "source": [
    "cipher = \"dfjardstddetckdaccccdegk\"\n",
    "code = 4\n",
    "answer = ''\n",
    "print(len(cipher))\n",
    "for i in range(0,len(cipher)+1, code):\n",
    "    answer += cipher[i-1]\n",
    "answer = answer[1:]\n",
    "print(answer)"
   ]
  },
  {
   "cell_type": "code",
   "execution_count": 97,
   "id": "186c6bf0-c20e-4c6c-92c0-cd4055adc196",
   "metadata": {},
   "outputs": [
    {
     "name": "stdout",
     "output_type": "stream",
     "text": [
      "hlelo\n"
     ]
    }
   ],
   "source": [
    "# https://school.programmers.co.kr/learn/courses/30/lessons/120895\n",
    "answer = ''\n",
    "my_string = 'hello'\n",
    "num1 = 1\n",
    "num2 = 2\n",
    "pos_1 = my_string[num1]\n",
    "pos_2 = my_string[num2]\n",
    "for i in range(len(my_string)):\n",
    "\n",
    "    if i == num1:\n",
    "        answer += pos_2\n",
    "    elif i == num2:\n",
    "        answer += pos_1\n",
    "    else:\n",
    "        answer += my_string[i]\n",
    "\n",
    "print(answer)"
   ]
  },
  {
   "cell_type": "code",
   "execution_count": 229,
   "id": "26d8cab5-8194-4939-a484-59bb54295906",
   "metadata": {},
   "outputs": [
    {
     "name": "stdout",
     "output_type": "stream",
     "text": [
      "[0, 0, 0, 1, 7, 6, 2, 3, 6, 4, 8]\n"
     ]
    },
    {
     "data": {
      "text/plain": [
       "7"
      ]
     },
     "execution_count": 229,
     "metadata": {},
     "output_type": "execute_result"
    }
   ],
   "source": [
    "# https://school.programmers.co.kr/learn/courses/30/lessons/120904\n",
    "num = 29183\n",
    "k = 1\n",
    "\n",
    "def solution(num, k):\n",
    "    pos_answer = []\n",
    "    for i in range(10, -1, -1):\n",
    "        if 1*10**i != 0:\n",
    "            pos_answer.append(num // (1*10**i))\n",
    "            num = num - (num // (1*10**i))*(1*10**i)\n",
    "\n",
    "    print(pos_answer)\n",
    "\n",
    "    if k in pos_answer:\n",
    "        answer = 0\n",
    "        for i in range(len(pos_answer)):\n",
    "            if pos_answer[i] == 0:\n",
    "                i += 1\n",
    "                pass\n",
    "            elif pos_answer[i] != k:\n",
    "                answer += 1\n",
    "                i += 1\n",
    "            elif pos_answer[i] == k:\n",
    "                answer += 1\n",
    "                return answer\n",
    "                break\n",
    "    else:\n",
    "        answer = -1\n",
    "        return answer\n",
    "solution(17623648, 4)"
   ]
  },
  {
   "cell_type": "code",
   "execution_count": 254,
   "id": "354d04c2-f260-4ed7-aa47-89c3266ea98c",
   "metadata": {},
   "outputs": [
    {
     "data": {
      "text/plain": [
       "2"
      ]
     },
     "execution_count": 254,
     "metadata": {},
     "output_type": "execute_result"
    }
   ],
   "source": [
    "# https://school.programmers.co.kr/learn/courses/30/lessons/120815\n",
    "def solution(n):\n",
    "    answer = 0\n",
    "\n",
    "    a = 6\n",
    "    b = n\n",
    "    def mini(a,b):\n",
    "        while b != 0:\n",
    "            a, b = b, a % b\n",
    "        return a\n",
    "\n",
    "    def max(a, b):\n",
    "        gcd = mini(a,b)\n",
    "        lcm = (a*b) // gcd\n",
    "        return lcm\n",
    "    answer += max(6, n) // 6\n",
    "    return answer\n",
    "    \n",
    "solution(4)"
   ]
  },
  {
   "cell_type": "code",
   "execution_count": null,
   "id": "1f20a575-ea39-40c3-949d-a3c2689f86dc",
   "metadata": {},
   "outputs": [],
   "source": [
    "# https://school.programmers.co.kr/learn/courses/30/lessons/120834\n",
    "answer = ''\n",
    "ord('a') - 64"
   ]
  },
  {
   "cell_type": "code",
   "execution_count": 69,
   "id": "b9b79024-52da-46df-adf3-34ba1c1c54c7",
   "metadata": {},
   "outputs": [
    {
     "data": {
      "text/plain": [
       "[0, 1, 0, 0]"
      ]
     },
     "execution_count": 69,
     "metadata": {},
     "output_type": "execute_result"
    }
   ],
   "source": [
    "# https://school.programmers.co.kr/learn/courses/30/lessons/120834\n",
    "# 0 예외처리를 어떻게 해야할까\n",
    "pos = []\n",
    "\n",
    "answer = ''\n",
    "def solution(age):\n",
    "    answer = ''\n",
    "    pos = []\n",
    "    for i in range(3,-1,-1):\n",
    "        if 1*10**i != 0:\n",
    "            pos.append(age// (1*10**i))\n",
    "            age = age - (age // (1*10**i))*(1*10**i)\n",
    "        \n",
    "\n",
    "\n",
    "\n",
    "    for i in range(len(pos)):\n",
    "        if pos[0] == 0:\n",
    "            i += 1\n",
    "        elif pos[1] == 0:\n",
    "            i += 1\n",
    "        else:\n",
    "            n = pos[i] + 97\n",
    "            answer += chr(n)\n",
    "\n",
    "    return pos\n",
    "\n",
    "solution(100)"
   ]
  },
  {
   "cell_type": "code",
   "execution_count": 82,
   "id": "687030a1-4121-4edc-b8cc-0fd8e4dbd703",
   "metadata": {},
   "outputs": [
    {
     "data": {
      "text/plain": [
       "[455, 6, 4, -1, 45, 6, 4]"
      ]
     },
     "execution_count": 82,
     "metadata": {},
     "output_type": "execute_result"
    }
   ],
   "source": [
    "# https://school.programmers.co.kr/learn/courses/30/lessons/120844\n",
    "answer = []\n",
    "\n",
    "def solution(numbers, direction):\n",
    "    if direction == \"right\":\n",
    "        a = len(numbers)\n",
    "        answer.append(numbers[-1])\n",
    "        answer.extend(numbers[0:(a-1)])\n",
    "    else:\n",
    "        answer.extend(numbers[1:])\n",
    "        answer.append(numbers[0])\n",
    "    return answer\n",
    "solution([4, 455, 6, 4, -1, 45, 6], \"left\")"
   ]
  },
  {
   "cell_type": "code",
   "execution_count": 92,
   "id": "5dc9aa56-b416-44f7-af77-1a25ea83fbfd",
   "metadata": {},
   "outputs": [
    {
     "data": {
      "text/plain": [
       "1"
      ]
     },
     "execution_count": 92,
     "metadata": {},
     "output_type": "execute_result"
    }
   ],
   "source": [
    "# https://school.programmers.co.kr/learn/courses/30/lessons/120891\n",
    "numbers = 36523\n",
    "\n",
    "def solution(order):\n",
    "    answer = 0\n",
    "    pos = []\n",
    "    for i in range(6,-1,-1):\n",
    "        if 1*10**i != 0:\n",
    "            pos.append(order// (1*10**i))\n",
    "            order = order - (order // (1*10**i))*(1*10**i)\n",
    "\n",
    "    for i in range(len(pos)):\n",
    "        if pos[i] == 3:\n",
    "            answer += 1\n",
    "        elif pos[i] == 6:\n",
    "            answer += 1\n",
    "        elif pos[i] == 9:\n",
    "            answer += 1\n",
    "    return answer\n"
   ]
  },
  {
   "cell_type": "code",
   "execution_count": 98,
   "id": "18764b13-5f81-47f8-871e-04bced3c698c",
   "metadata": {},
   "outputs": [
    {
     "data": {
      "text/plain": [
       "8"
      ]
     },
     "execution_count": 98,
     "metadata": {},
     "output_type": "execute_result"
    }
   ],
   "source": [
    "# https://school.programmers.co.kr/learn/courses/30/lessons/120846\n",
    "# n\tresult\n",
    "# 10\t5 46810 10/2=5, 6/1,6/2, 6/3, 6/4, 6/5, 6/6\n",
    "# 15\t8\n",
    "# 약수의 개수 구하기\n",
    "def fun(n):\n",
    "    count = 0\n",
    "    for i in range(1,n+1):\n",
    "        if n % i == 0:\n",
    "            count += 1\n",
    "    return count\n",
    "def solution(n):\n",
    "    answer = 0\n",
    "    for i in range(1,n+1):\n",
    "        if fun(i) >= 3:\n",
    "            answer += 1\n",
    "    return answer\n",
    "\n",
    "solution(15)"
   ]
  },
  {
   "cell_type": "code",
   "execution_count": null,
   "id": "752fa803-a1a1-4228-829a-c6aaf6ebcbd6",
   "metadata": {},
   "outputs": [],
   "source": []
  }
 ],
 "metadata": {
  "kernelspec": {
   "display_name": "Python 3 (ipykernel)",
   "language": "python",
   "name": "python3"
  },
  "language_info": {
   "codemirror_mode": {
    "name": "ipython",
    "version": 3
   },
   "file_extension": ".py",
   "mimetype": "text/x-python",
   "name": "python",
   "nbconvert_exporter": "python",
   "pygments_lexer": "ipython3",
   "version": "3.12.9"
  }
 },
 "nbformat": 4,
 "nbformat_minor": 5
}
