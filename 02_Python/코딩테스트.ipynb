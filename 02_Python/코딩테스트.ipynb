{
 "cells": [
  {
   "cell_type": "code",
   "execution_count": 4,
   "id": "845f1c79-4d75-47cf-ba30-164ce885aa2a",
   "metadata": {},
   "outputs": [
    {
     "data": {
      "text/plain": [
       "19000"
      ]
     },
     "execution_count": 4,
     "metadata": {},
     "output_type": "execute_result"
    }
   ],
   "source": [
    "order = [\"cafelatte\", \"americanoice\", \"hotcafelatte\", \"anything\"]\n",
    "price = 0\n",
    "\n",
    "def solution(order):\n",
    "    price = 0\n",
    "    for i in range(len(order)):\n",
    "        if \"latte\" in order[i]:\n",
    "            price += 5000\n",
    "        else:\n",
    "            price += 4500\n",
    "    answer = price\n",
    "    return answer\n",
    "\n",
    "solution([\"cafelatte\", \"americanoice\", \"hotcafelatte\", \"anything\"])"
   ]
  },
  {
   "cell_type": "code",
   "execution_count": 8,
   "id": "e1caac63-883a-4641-9bde-2b2ce458afb9",
   "metadata": {},
   "outputs": [
    {
     "data": {
      "text/plain": [
       "1"
      ]
     },
     "execution_count": 8,
     "metadata": {},
     "output_type": "execute_result"
    }
   ],
   "source": [
    "7%2"
   ]
  },
  {
   "cell_type": "code",
   "execution_count": 56,
   "id": "236a6f6c-cfa7-4c30-9dd4-0a502a09e5e6",
   "metadata": {},
   "outputs": [
    {
     "name": "stdout",
     "output_type": "stream",
     "text": [
      "5\n",
      "[3, 7, 50, 49]\n",
      "[1, 2, 3, 100, 99, 98]\n"
     ]
    }
   ],
   "source": [
    "# https://school.programmers.co.kr/learn/courses/30/lessons/181881\n",
    "array = [1, 2, 3, 100, 99, 98]\n",
    "answer = 0\n",
    "\n",
    "for j in range(5):\n",
    "    pos = []\n",
    "    for i in range(len(array)):\n",
    "        if array[i] % 2 == 0 and array[i] >= 50:\n",
    "           pos.append(array[i] // 2)\n",
    "        elif array[i] < 50 and array[i] % 2 == 1:\n",
    "            pos.append(array[i] * 2 + 1)\n",
    "    \n",
    "    answer += 1\n",
    "    # if pos == array:\n",
    "    #     break\n",
    "    \n",
    "\n",
    "print(answer)\n",
    "print(pos)\n",
    "print(array)"
   ]
  },
  {
   "cell_type": "code",
   "execution_count": null,
   "id": "403a01c4-13d5-4025-bb4a-f8d9cd046e27",
   "metadata": {},
   "outputs": [],
   "source": []
  }
 ],
 "metadata": {
  "kernelspec": {
   "display_name": "Python 3 (ipykernel)",
   "language": "python",
   "name": "python3"
  },
  "language_info": {
   "codemirror_mode": {
    "name": "ipython",
    "version": 3
   },
   "file_extension": ".py",
   "mimetype": "text/x-python",
   "name": "python",
   "nbconvert_exporter": "python",
   "pygments_lexer": "ipython3",
   "version": "3.12.9"
  }
 },
 "nbformat": 4,
 "nbformat_minor": 5
}
