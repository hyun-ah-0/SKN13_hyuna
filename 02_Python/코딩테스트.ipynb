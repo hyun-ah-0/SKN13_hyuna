{
 "cells": [
  {
   "cell_type": "code",
   "execution_count": 4,
   "id": "845f1c79-4d75-47cf-ba30-164ce885aa2a",
   "metadata": {},
   "outputs": [
    {
     "data": {
      "text/plain": [
       "19000"
      ]
     },
     "execution_count": 4,
     "metadata": {},
     "output_type": "execute_result"
    }
   ],
   "source": [
    "order = [\"cafelatte\", \"americanoice\", \"hotcafelatte\", \"anything\"]\n",
    "price = 0\n",
    "\n",
    "def solution(order):\n",
    "    price = 0\n",
    "    for i in range(len(order)):\n",
    "        if \"latte\" in order[i]:\n",
    "            price += 5000\n",
    "        else:\n",
    "            price += 4500\n",
    "    answer = price\n",
    "    return answer\n",
    "\n",
    "solution([\"cafelatte\", \"americanoice\", \"hotcafelatte\", \"anything\"])"
   ]
  },
  {
   "cell_type": "code",
   "execution_count": 8,
   "id": "e1caac63-883a-4641-9bde-2b2ce458afb9",
   "metadata": {},
   "outputs": [
    {
     "data": {
      "text/plain": [
       "1"
      ]
     },
     "execution_count": 8,
     "metadata": {},
     "output_type": "execute_result"
    }
   ],
   "source": [
    "7%2"
   ]
  },
  {
   "cell_type": "code",
   "execution_count": 34,
   "id": "236a6f6c-cfa7-4c30-9dd4-0a502a09e5e6",
   "metadata": {},
   "outputs": [
    {
     "name": "stdout",
     "output_type": "stream",
     "text": [
      "5\n"
     ]
    }
   ],
   "source": [
    "# https://school.programmers.co.kr/learn/courses/30/lessons/181881\n",
    "array = [1, 2, 3, 100, 99, 98]\n",
    "answer = 0\n",
    "\n",
    "\n",
    "for j in range(10):\n",
    "\n",
    "    pos = list(array)\n",
    "    for i in range(len(array)):\n",
    "        \n",
    "        if array[i] % 2 == 0 and array[i] >= 50:\n",
    "            array[i] = array[i] // 2\n",
    "        elif array[i] < 50 and array[i] % 2 == 1:\n",
    "            array[i] = array[i] * 2 + 1\n",
    "    \n",
    "\n",
    "    if pos == array:\n",
    "        break\n",
    "    \n",
    "    answer += 1\n",
    "\n",
    "    \n",
    "\n",
    "print(answer)\n"
   ]
  },
  {
   "cell_type": "code",
   "execution_count": 89,
   "id": "403a01c4-13d5-4025-bb4a-f8d9cd046e27",
   "metadata": {},
   "outputs": [
    {
     "name": "stdout",
     "output_type": "stream",
     "text": [
      "[0, 0, 0] [4, 3, 3] [1, 2, 3]\n",
      "[1, 2, 3, 5, 4]\n"
     ]
    }
   ],
   "source": [
    "# https://school.programmers.co.kr/learn/courses/30/lessons/181859\n",
    "# 0의 배수에서 에러남\n",
    "arr = [0, 1, 2, 4, 3]\n",
    "queries = [[0, 4, 1],[0, 3, 2],[0, 3, 3]]\n",
    "\n",
    "s = []\n",
    "e = []\n",
    "k = []\n",
    "\n",
    "for j in range(3):\n",
    "    pos = [s,e,k]\n",
    "    for i in range(len(queries)):\n",
    "        pos[j].append(queries[i][j])\n",
    "\n",
    "print(s,e,k)\n",
    "\n",
    "\n",
    "pos = []\n",
    "\n",
    "for j in range(len(arr)):\n",
    "    if s[0] <= e[0] and k[0] % s:\n",
    "        pos.append(j)\n",
    "for j in range(len(pos)):\n",
    "    arr[j] += 1\n",
    "\n",
    "print(arr)\n",
    "\n",
    "\n",
    "\n",
    "# if s[0] <= e[0]:\n",
    "    \n",
    "# for i in range(5):\n",
    "#     if (s[0] + 1) % k[0] == 0:\n",
    "#         arr[0] += 1\n",
    "#         s[0] += 1\n",
    "#     if s[0] > e[0]:\n",
    "#         break\n",
    "\n",
    "#     else:\n",
    "#         s[0] += 1\n",
    "#     if s[0] > e[0]:\n",
    "#         break\n",
    "\n",
    "    \n",
    "    \n",
    "# while s < e:\n",
    "#     if k[i] % s[i] + 1 == 0:\n",
    "        \n",
    "\n",
    "# for i in range(5):\n",
    "#     if s[i] < e[i] and k[i] % s[i] == 0:\n",
    "#         arr[i] += 1\n",
    "#         s[i] += 1\n",
    "#     elif s[i] < e[i]:\n",
    "#         s[i] += 1\n",
    "#     else:\n",
    "#         break\n",
    "    \n"
   ]
  },
  {
   "cell_type": "code",
   "execution_count": 113,
   "id": "05acd4aa-efce-481e-b648-c1dd417fcf6d",
   "metadata": {},
   "outputs": [
    {
     "name": "stdout",
     "output_type": "stream",
     "text": [
      "[-1]\n"
     ]
    }
   ],
   "source": [
    "# https://school.programmers.co.kr/learn/courses/30/lessons/181859\n",
    "i = 0\n",
    "stk =[] \n",
    "arr = [0, 1, 1, 0]\n",
    "\n",
    "while i < len(arr):\n",
    "    if stk == []:\n",
    "        stk.append(arr[i])\n",
    "        i += 1\n",
    "\n",
    "    else:\n",
    "        if stk[-1] == arr[i]:\n",
    "            stk.pop(-1)\n",
    "            i += 1\n",
    "        else:\n",
    "            stk.append(arr[i])\n",
    "            i += 1\n",
    "\n",
    "if stk == []:\n",
    "    print([-1])\n",
    "else:\n",
    "    print(stk)"
   ]
  },
  {
   "cell_type": "code",
   "execution_count": 124,
   "id": "678bdc28-4b2f-417e-871e-fb36b1c42175",
   "metadata": {},
   "outputs": [
    {
     "name": "stdout",
     "output_type": "stream",
     "text": [
      "[]\n"
     ]
    }
   ],
   "source": [
    "#https://school.programmers.co.kr/learn/courses/30/lessons/181890\n",
    "str_list = [\"u\", \"u\"]\n",
    "\n",
    "\n",
    "for i in range(len(str_list)):\n",
    "    if str_list[i] == \"l\":\n",
    "        print(str_list[:i])\n",
    "        break\n",
    "    elif str_list[i] == \"r\":\n",
    "        print(str_list[i:])\n",
    "        break\n",
    "    else:\n",
    "        i += 1\n",
    "        if i == len(str_list):\n",
    "            print([])\n",
    "            break\n"
   ]
  },
  {
   "cell_type": "code",
   "execution_count": 201,
   "id": "5edf6dd0-0b8d-406d-a23d-079cd4188bb2",
   "metadata": {},
   "outputs": [
    {
     "name": "stdin",
     "output_type": "stream",
     "text": [
      " Programmers\n"
     ]
    },
    {
     "name": "stdout",
     "output_type": "stream",
     "text": [
      "[0, 0, 0, 0, 0, 0, 0, 0, 0, 0, 0, 0, 0, 0, 0, 1, 0, 0, 0, 0, 0, 0, 0, 0, 0, 0, 1, 0, 0, 0, 1, 0, 1, 0, 0, 0, 0, 0, 2, 0, 1, 0, 0, 3, 1, 0, 0, 0, 0, 0, 0, 0]\n"
     ]
    }
   ],
   "source": [
    "# https://school.programmers.co.kr/learn/courses/30/lessons/181902\n",
    "my_string = input()\n",
    "answer = [0] * 52\n",
    "\n",
    "for i in range(len(my_string)):\n",
    "    pos = ord(my_string[i]) - 65\n",
    "    # 91~96 알파벳 아님\n",
    "    if pos > 31:\n",
    "        pos = pos - 6\n",
    "    answer[pos] += 1\n",
    "\n",
    "\n",
    "print(answer)"
   ]
  },
  {
   "cell_type": "code",
   "execution_count": 213,
   "id": "79528767-88b8-470f-a541-51ceec0dd05e",
   "metadata": {},
   "outputs": [
    {
     "name": "stdin",
     "output_type": "stream",
     "text": [
      " 20\n",
      " 50\n",
      " <\n",
      " !\n"
     ]
    },
    {
     "name": "stdout",
     "output_type": "stream",
     "text": [
      "1\n"
     ]
    }
   ],
   "source": [
    "# https://school.programmers.co.kr/learn/courses/30/lessons/181934\n",
    "n = int(input())\n",
    "m = int(input())\n",
    "\n",
    "ineq = input()\n",
    "eq = input()\n",
    "\n",
    "if ineq == \">\":\n",
    "    if n >= m and eq == \"=\":\n",
    "        print(1)\n",
    "    elif n > m:\n",
    "        print(1)\n",
    "    else:\n",
    "        print(0)\n",
    "else:\n",
    "    if n <= m and eq == \"=\":\n",
    "        print(1)\n",
    "    elif n < m:\n",
    "        print(1)\n",
    "    else:\n",
    "        print(0)\n",
    "\n"
   ]
  },
  {
   "cell_type": "code",
   "execution_count": 216,
   "id": "8a406ef9-1845-4d87-9446-ef23c08bb5f2",
   "metadata": {},
   "outputs": [
    {
     "data": {
      "text/plain": [
       "305793246910280479981"
      ]
     },
     "execution_count": 216,
     "metadata": {},
     "output_type": "execute_result"
    }
   ],
   "source": [
    "# https://school.programmers.co.kr/learn/courses/30/lessons/181846\n",
    "def solution(a, b):\n",
    "    a = int(a)\n",
    "    b = int(b)\n",
    "    answer = a + b\n",
    "    return answer\n",
    "\n",
    "solution(\"18446744073709551615\", \"287346502836570928366\")"
   ]
  },
  {
   "cell_type": "code",
   "execution_count": 224,
   "id": "1d1c1a75-0897-4674-a4b9-0a479caf25b8",
   "metadata": {},
   "outputs": [
    {
     "name": "stdout",
     "output_type": "stream",
     "text": [
      "[0, 1, -1, -1]\n"
     ]
    }
   ],
   "source": [
    "# https://school.programmers.co.kr/learn/courses/30/lessons/181858\n",
    "arr = [0, 1, 1, 1, 1]\n",
    "k = 4\n",
    "# answer = [0, 1, 2]\n",
    "answer = []\n",
    "\n",
    "for i in range(k+1):\n",
    "    if arr[i] not in answer:\n",
    "        answer.append(arr[i])\n",
    "\n",
    "while len(answer) < k:\n",
    "    answer.append(-1)\n",
    "\n",
    "print(answer)"
   ]
  },
  {
   "cell_type": "code",
   "execution_count": 252,
   "id": "e8caf2f7-8379-4de5-b78c-a67b9c9780d4",
   "metadata": {},
   "outputs": [
    {
     "data": {
      "text/plain": [
       "[[1, 2], [3, 4]]"
      ]
     },
     "execution_count": 252,
     "metadata": {},
     "output_type": "execute_result"
    }
   ],
   "source": [
    "# https://school.programmers.co.kr/learn/courses/30/lessons/181830\n",
    "def solution(arr):\n",
    "    row = len(arr)\n",
    "    col = len(arr[0])\n",
    "\n",
    "    if row > col:\n",
    "        for i in range(row):\n",
    "            arr[i].append(0)\n",
    "            while col == row:\n",
    "                break\n",
    "                \n",
    "    elif row < col:\n",
    "        for i in range(col):\n",
    "            arr.append([0]*col)\n",
    "            while row == col:\n",
    "                break\n",
    "\n",
    "    else:\n",
    "        return arr\n",
    "    answer = arr\n",
    "    return answer\n",
    "\n",
    "solution([[1, 2], [3, 4]])"
   ]
  },
  {
   "cell_type": "code",
   "execution_count": 272,
   "id": "1d9eaa53-b29f-4061-b2c8-c9f2e0b00c29",
   "metadata": {},
   "outputs": [
    {
     "data": {
      "text/plain": [
       "'HelloWorld'"
      ]
     },
     "execution_count": 272,
     "metadata": {},
     "output_type": "execute_result"
    }
   ],
   "source": [
    "# https://school.programmers.co.kr/learn/courses/30/lessons/181943\n",
    "\n",
    "def solution(my_string, overwrite_string, s):\n",
    "    l = len(overwrite_string)\n",
    "    string = my_string[:s] + overwrite_string\n",
    "    if len(string) < len(my_string):\n",
    "        answer = string + my_string[s+l:]\n",
    "    else:\n",
    "        answer = string\n",
    "    \n",
    "    return answer\n",
    "\n",
    "solution(\"He11oWor1d\", \"lloWorl\", 2)"
   ]
  },
  {
   "cell_type": "code",
   "execution_count": 274,
   "id": "190c9c98-0472-416a-a779-d971ee2e857a",
   "metadata": {},
   "outputs": [
    {
     "name": "stdin",
     "output_type": "stream",
     "text": [
      " 4 5\n"
     ]
    },
    {
     "name": "stdout",
     "output_type": "stream",
     "text": [
      "a = 4\n",
      "b = 5\n"
     ]
    }
   ],
   "source": [
    "# https://school.programmers.co.kr/learn/courses/30/lessons/181951\n",
    "a, b = map(int, input().strip().split(' '))\n",
    "print(\"a =\",a)\n",
    "print(\"b =\",b)\n"
   ]
  },
  {
   "cell_type": "code",
   "execution_count": 299,
   "id": "72942253-6bee-4fda-826c-aba1ddb946fb",
   "metadata": {},
   "outputs": [
    {
     "ename": "IndentationError",
     "evalue": "unindent does not match any outer indentation level (<string>, line 7)",
     "output_type": "error",
     "traceback": [
      "  \u001b[36mFile \u001b[39m\u001b[32m<string>:7\u001b[39m\n\u001b[31m    \u001b[39m\u001b[31manswer.append(pricture[i-1] *2)\u001b[39m\n                                          ^\n\u001b[31mIndentationError\u001b[39m\u001b[31m:\u001b[39m unindent does not match any outer indentation level\n"
     ]
    }
   ],
   "source": [
    "# https://school.programmers.co.kr/learn/courses/30/lessons/181836\n",
    "def solution(picture, k):\n",
    "    answer = []\n",
    "    for i in range(len(picture)):\n",
    "        for j in range(len(picture[i])):\n",
    "            answer.append(picture[i][j-1] * 2)\n",
    "         answer.append(pricture[i-1] *2)       \n",
    "    return answer\n",
    "    \n"
   ]
  },
  {
   "cell_type": "code",
   "execution_count": 301,
   "id": "20d93a21-873d-4f03-b130-1d61d2cdf1db",
   "metadata": {},
   "outputs": [
    {
     "name": "stdout",
     "output_type": "stream",
     "text": [
      "xx\n"
     ]
    },
    {
     "data": {
      "text/plain": [
       "'.xx...xx..xx...xx.'"
      ]
     },
     "execution_count": 301,
     "metadata": {},
     "output_type": "execute_result"
    }
   ],
   "source": [
    "a = [\".xx...xx.\", \"x..x.x..x\"]\n",
    "for i in range(len(a[0])):\n",
    "    a1 = a[0][i-1] *2\n",
    "print(a1)\n",
    "a[0]*2"
   ]
  },
  {
   "cell_type": "code",
   "execution_count": null,
   "id": "d61e2baf-ac3c-49e1-b878-4d5d04413ed4",
   "metadata": {},
   "outputs": [],
   "source": []
  }
 ],
 "metadata": {
  "kernelspec": {
   "display_name": "Python 3 (ipykernel)",
   "language": "python",
   "name": "python3"
  },
  "language_info": {
   "codemirror_mode": {
    "name": "ipython",
    "version": 3
   },
   "file_extension": ".py",
   "mimetype": "text/x-python",
   "name": "python",
   "nbconvert_exporter": "python",
   "pygments_lexer": "ipython3",
   "version": "3.12.9"
  }
 },
 "nbformat": 4,
 "nbformat_minor": 5
}
