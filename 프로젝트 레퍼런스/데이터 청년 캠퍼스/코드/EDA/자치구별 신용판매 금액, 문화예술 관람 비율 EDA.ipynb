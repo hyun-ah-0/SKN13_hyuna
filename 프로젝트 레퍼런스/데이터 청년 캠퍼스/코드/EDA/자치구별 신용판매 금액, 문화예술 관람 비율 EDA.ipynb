{
 "cells": [
  {
   "cell_type": "code",
   "execution_count": 1,
   "id": "vital-gateway",
   "metadata": {},
   "outputs": [],
   "source": [
    "import pandas as pd\n",
    "import numpy as np\n",
    "import matplotlib as mpl\n",
    "import matplotlib.pyplot as plt\n",
    "%matplotlib inline\n",
    "import seaborn as sns"
   ]
  },
  {
   "cell_type": "code",
   "execution_count": 2,
   "id": "signed-paper",
   "metadata": {},
   "outputs": [
    {
     "data": {
      "text/html": [
       "<div>\n",
       "<style scoped>\n",
       "    .dataframe tbody tr th:only-of-type {\n",
       "        vertical-align: middle;\n",
       "    }\n",
       "\n",
       "    .dataframe tbody tr th {\n",
       "        vertical-align: top;\n",
       "    }\n",
       "\n",
       "    .dataframe thead th {\n",
       "        text-align: right;\n",
       "    }\n",
       "</style>\n",
       "<table border=\"1\" class=\"dataframe\">\n",
       "  <thead>\n",
       "    <tr style=\"text-align: right;\">\n",
       "      <th></th>\n",
       "      <th>역사명</th>\n",
       "      <th>자치구</th>\n",
       "      <th>역위도</th>\n",
       "      <th>역경도</th>\n",
       "      <th>역사도로명주소</th>\n",
       "      <th>근처 공연장수</th>\n",
       "      <th>공연건수</th>\n",
       "      <th>예매건수</th>\n",
       "      <th>퇴근시간 하차인원(17시~1시)</th>\n",
       "      <th>신용판매금액</th>\n",
       "      <th>문화예술관람</th>\n",
       "      <th>한 공연당 예매건수</th>\n",
       "    </tr>\n",
       "  </thead>\n",
       "  <tbody>\n",
       "    <tr>\n",
       "      <th>0</th>\n",
       "      <td>가락시장</td>\n",
       "      <td>송파구</td>\n",
       "      <td>37.49277</td>\n",
       "      <td>127.1179</td>\n",
       "      <td>서울특별시 송파구 송파대로 지하 257 (가락동)</td>\n",
       "      <td>3.0</td>\n",
       "      <td>144.0</td>\n",
       "      <td>314120.0</td>\n",
       "      <td>2601550.0</td>\n",
       "      <td>1801.0</td>\n",
       "      <td>4.8</td>\n",
       "      <td>6544.167</td>\n",
       "    </tr>\n",
       "    <tr>\n",
       "      <th>1</th>\n",
       "      <td>가산디지털단지</td>\n",
       "      <td>금천구</td>\n",
       "      <td>37.48122</td>\n",
       "      <td>126.8826</td>\n",
       "      <td>서울특별시 금천구 벚꽃로 309 (가산동)</td>\n",
       "      <td>7.0</td>\n",
       "      <td>52.0</td>\n",
       "      <td>18582.0</td>\n",
       "      <td>1986397.0</td>\n",
       "      <td>1092.0</td>\n",
       "      <td>7.0</td>\n",
       "      <td>2501.423</td>\n",
       "    </tr>\n",
       "    <tr>\n",
       "      <th>2</th>\n",
       "      <td>강남</td>\n",
       "      <td>강남구</td>\n",
       "      <td>37.49720</td>\n",
       "      <td>127.0281</td>\n",
       "      <td>서울특별시 강남구 강남대로 지하 396 (역삼동)</td>\n",
       "      <td>32.0</td>\n",
       "      <td>717.0</td>\n",
       "      <td>729016.0</td>\n",
       "      <td>8523024.0</td>\n",
       "      <td>2326.0</td>\n",
       "      <td>9.0</td>\n",
       "      <td>32536.280</td>\n",
       "    </tr>\n",
       "    <tr>\n",
       "      <th>3</th>\n",
       "      <td>강남구청</td>\n",
       "      <td>강남구</td>\n",
       "      <td>37.51715</td>\n",
       "      <td>127.0412</td>\n",
       "      <td>서울특별시 강남구 학동로 지하346 (삼성동)</td>\n",
       "      <td>32.0</td>\n",
       "      <td>166.0</td>\n",
       "      <td>254494.0</td>\n",
       "      <td>1074613.0</td>\n",
       "      <td>2326.0</td>\n",
       "      <td>9.0</td>\n",
       "      <td>49059.080</td>\n",
       "    </tr>\n",
       "    <tr>\n",
       "      <th>4</th>\n",
       "      <td>강동</td>\n",
       "      <td>강동구</td>\n",
       "      <td>37.53588</td>\n",
       "      <td>127.1321</td>\n",
       "      <td>서울특별시 강동구 천호대로 지하1097 (천호동)</td>\n",
       "      <td>3.0</td>\n",
       "      <td>31.0</td>\n",
       "      <td>30650.0</td>\n",
       "      <td>3522083.0</td>\n",
       "      <td>1518.0</td>\n",
       "      <td>4.1</td>\n",
       "      <td>2966.129</td>\n",
       "    </tr>\n",
       "  </tbody>\n",
       "</table>\n",
       "</div>"
      ],
      "text/plain": [
       "       역사명  자치구       역위도       역경도                      역사도로명주소  근처 공연장수  \\\n",
       "0     가락시장  송파구  37.49277  127.1179  서울특별시 송파구 송파대로 지하 257 (가락동)      3.0   \n",
       "1  가산디지털단지  금천구  37.48122  126.8826      서울특별시 금천구 벚꽃로 309 (가산동)      7.0   \n",
       "2       강남  강남구  37.49720  127.0281  서울특별시 강남구 강남대로 지하 396 (역삼동)     32.0   \n",
       "3     강남구청  강남구  37.51715  127.0412    서울특별시 강남구 학동로 지하346 (삼성동)     32.0   \n",
       "4       강동  강동구  37.53588  127.1321  서울특별시 강동구 천호대로 지하1097 (천호동)      3.0   \n",
       "\n",
       "    공연건수      예매건수  퇴근시간 하차인원(17시~1시)  신용판매금액  문화예술관람  한 공연당 예매건수  \n",
       "0  144.0  314120.0          2601550.0  1801.0     4.8    6544.167  \n",
       "1   52.0   18582.0          1986397.0  1092.0     7.0    2501.423  \n",
       "2  717.0  729016.0          8523024.0  2326.0     9.0   32536.280  \n",
       "3  166.0  254494.0          1074613.0  2326.0     9.0   49059.080  \n",
       "4   31.0   30650.0          3522083.0  1518.0     4.1    2966.129  "
      ]
     },
     "execution_count": 2,
     "metadata": {},
     "output_type": "execute_result"
    }
   ],
   "source": [
    "from openpyxl import load_workbook #openpyxl 중에서 load_workbook 함수만 사용\n",
    "\n",
    "# 읽을 엑셀 파일\n",
    "xl_file = '서울 지하철역 마스터시트 (1).xlsx'\n",
    "\n",
    "# 엑셀 파일 불러오기\n",
    "wb = load_workbook(filename = xl_file)\n",
    "\n",
    "wb.sheetnames\n",
    "\n",
    "ws = wb['시트1'] #시트 설정\n",
    "data = ws.values\n",
    "\n",
    "columns = next(data)[0:]\n",
    "df = pd.DataFrame(data,columns=columns)\n",
    "\n",
    "df.head()"
   ]
  },
  {
   "cell_type": "code",
   "execution_count": 3,
   "id": "descending-christian",
   "metadata": {},
   "outputs": [
    {
     "name": "stdout",
     "output_type": "stream",
     "text": [
      "<class 'pandas.core.frame.DataFrame'>\n",
      "RangeIndex: 289 entries, 0 to 288\n",
      "Data columns (total 12 columns):\n",
      "역사명                  234 non-null object\n",
      "자치구                  234 non-null object\n",
      "역위도                  234 non-null float64\n",
      "역경도                  234 non-null float64\n",
      "역사도로명주소              234 non-null object\n",
      "근처 공연장수              234 non-null float64\n",
      "공연건수                 234 non-null float64\n",
      "예매건수                 234 non-null float64\n",
      "퇴근시간 하차인원(17시~1시)    234 non-null float64\n",
      "신용판매금액               234 non-null float64\n",
      "문화예술관람               234 non-null float64\n",
      "한 공연당 예매건수           230 non-null float64\n",
      "dtypes: float64(9), object(3)\n",
      "memory usage: 27.2+ KB\n"
     ]
    }
   ],
   "source": [
    "df.info() # 정보확인"
   ]
  },
  {
   "cell_type": "code",
   "execution_count": 4,
   "id": "incoming-motel",
   "metadata": {
    "collapsed": true,
    "jupyter": {
     "outputs_hidden": true
    }
   },
   "outputs": [
    {
     "data": {
      "text/plain": [
       "0      False\n",
       "1      False\n",
       "2      False\n",
       "3      False\n",
       "4      False\n",
       "5      False\n",
       "6      False\n",
       "7      False\n",
       "8      False\n",
       "9      False\n",
       "10     False\n",
       "11     False\n",
       "12     False\n",
       "13     False\n",
       "14     False\n",
       "15     False\n",
       "16     False\n",
       "17     False\n",
       "18     False\n",
       "19     False\n",
       "20     False\n",
       "21     False\n",
       "22     False\n",
       "23     False\n",
       "24     False\n",
       "25     False\n",
       "26     False\n",
       "27     False\n",
       "28     False\n",
       "29     False\n",
       "30     False\n",
       "31     False\n",
       "32     False\n",
       "33     False\n",
       "34     False\n",
       "35     False\n",
       "36     False\n",
       "37     False\n",
       "38     False\n",
       "39     False\n",
       "40     False\n",
       "41     False\n",
       "42     False\n",
       "43     False\n",
       "44     False\n",
       "45     False\n",
       "46     False\n",
       "47     False\n",
       "48     False\n",
       "49     False\n",
       "50     False\n",
       "51     False\n",
       "52     False\n",
       "53     False\n",
       "54     False\n",
       "55     False\n",
       "56     False\n",
       "57     False\n",
       "58     False\n",
       "59     False\n",
       "60     False\n",
       "61     False\n",
       "62     False\n",
       "63     False\n",
       "64     False\n",
       "65     False\n",
       "66     False\n",
       "67     False\n",
       "68     False\n",
       "69     False\n",
       "70     False\n",
       "71     False\n",
       "72     False\n",
       "73     False\n",
       "74     False\n",
       "75     False\n",
       "76     False\n",
       "77     False\n",
       "78     False\n",
       "79     False\n",
       "80     False\n",
       "81     False\n",
       "82     False\n",
       "83     False\n",
       "84     False\n",
       "85     False\n",
       "86     False\n",
       "87     False\n",
       "88     False\n",
       "89     False\n",
       "90     False\n",
       "91     False\n",
       "92     False\n",
       "93     False\n",
       "94     False\n",
       "95     False\n",
       "96     False\n",
       "97     False\n",
       "98     False\n",
       "99     False\n",
       "100    False\n",
       "101    False\n",
       "102    False\n",
       "103    False\n",
       "104    False\n",
       "105    False\n",
       "106    False\n",
       "107    False\n",
       "108    False\n",
       "109    False\n",
       "110    False\n",
       "111    False\n",
       "112    False\n",
       "113    False\n",
       "114    False\n",
       "115    False\n",
       "116    False\n",
       "       ...  \n",
       "172    False\n",
       "173    False\n",
       "174    False\n",
       "175    False\n",
       "176    False\n",
       "177    False\n",
       "178    False\n",
       "179    False\n",
       "180    False\n",
       "181    False\n",
       "182    False\n",
       "183    False\n",
       "184    False\n",
       "185    False\n",
       "186    False\n",
       "187    False\n",
       "188    False\n",
       "189    False\n",
       "190    False\n",
       "191    False\n",
       "192    False\n",
       "193    False\n",
       "194    False\n",
       "195    False\n",
       "196    False\n",
       "197    False\n",
       "198    False\n",
       "199    False\n",
       "200    False\n",
       "201    False\n",
       "202    False\n",
       "203    False\n",
       "204    False\n",
       "205    False\n",
       "206    False\n",
       "207    False\n",
       "208    False\n",
       "209    False\n",
       "210    False\n",
       "211    False\n",
       "212    False\n",
       "213    False\n",
       "214    False\n",
       "215    False\n",
       "216    False\n",
       "217    False\n",
       "218    False\n",
       "219    False\n",
       "220    False\n",
       "221    False\n",
       "222    False\n",
       "223    False\n",
       "224    False\n",
       "225    False\n",
       "226    False\n",
       "227    False\n",
       "228    False\n",
       "229    False\n",
       "230    False\n",
       "231    False\n",
       "232    False\n",
       "233    False\n",
       "234     True\n",
       "235     True\n",
       "236     True\n",
       "237     True\n",
       "238     True\n",
       "239     True\n",
       "240     True\n",
       "241     True\n",
       "242     True\n",
       "243     True\n",
       "244     True\n",
       "245     True\n",
       "246     True\n",
       "247     True\n",
       "248     True\n",
       "249     True\n",
       "250     True\n",
       "251     True\n",
       "252     True\n",
       "253     True\n",
       "254     True\n",
       "255     True\n",
       "256     True\n",
       "257     True\n",
       "258     True\n",
       "259     True\n",
       "260     True\n",
       "261     True\n",
       "262     True\n",
       "263     True\n",
       "264     True\n",
       "265     True\n",
       "266     True\n",
       "267     True\n",
       "268     True\n",
       "269     True\n",
       "270     True\n",
       "271     True\n",
       "272     True\n",
       "273     True\n",
       "274     True\n",
       "275     True\n",
       "276     True\n",
       "277     True\n",
       "278     True\n",
       "279     True\n",
       "280     True\n",
       "281     True\n",
       "282     True\n",
       "283     True\n",
       "284     True\n",
       "285     True\n",
       "286     True\n",
       "287     True\n",
       "288     True\n",
       "Name: 신용판매금액, Length: 289, dtype: bool"
      ]
     },
     "execution_count": 4,
     "metadata": {},
     "output_type": "execute_result"
    }
   ],
   "source": [
    "pd.set_option('max_rows',235)\n",
    "df['신용판매금액'].isnull() # 결측치 확인"
   ]
  },
  {
   "cell_type": "code",
   "execution_count": 5,
   "id": "protecting-cabin",
   "metadata": {},
   "outputs": [],
   "source": [
    "df = df.dropna(axis=0) #결측치 제거"
   ]
  },
  {
   "cell_type": "code",
   "execution_count": 6,
   "id": "verbal-window",
   "metadata": {},
   "outputs": [
    {
     "name": "stdout",
     "output_type": "stream",
     "text": [
      "<class 'pandas.core.frame.DataFrame'>\n",
      "Int64Index: 230 entries, 0 to 233\n",
      "Data columns (total 12 columns):\n",
      "역사명                  230 non-null object\n",
      "자치구                  230 non-null object\n",
      "역위도                  230 non-null float64\n",
      "역경도                  230 non-null float64\n",
      "역사도로명주소              230 non-null object\n",
      "근처 공연장수              230 non-null float64\n",
      "공연건수                 230 non-null float64\n",
      "예매건수                 230 non-null float64\n",
      "퇴근시간 하차인원(17시~1시)    230 non-null float64\n",
      "신용판매금액               230 non-null float64\n",
      "문화예술관람               230 non-null float64\n",
      "한 공연당 예매건수           230 non-null float64\n",
      "dtypes: float64(9), object(3)\n",
      "memory usage: 23.4+ KB\n"
     ]
    }
   ],
   "source": [
    "df.info() #정보확인"
   ]
  },
  {
   "cell_type": "code",
   "execution_count": 7,
   "id": "alone-explorer",
   "metadata": {
    "scrolled": true
   },
   "outputs": [
    {
     "data": {
      "text/plain": [
       "(230, 12)"
      ]
     },
     "execution_count": 7,
     "metadata": {},
     "output_type": "execute_result"
    }
   ],
   "source": [
    "df.shape "
   ]
  },
  {
   "cell_type": "code",
   "execution_count": 8,
   "id": "roman-renaissance",
   "metadata": {},
   "outputs": [
    {
     "data": {
      "text/plain": [
       "count     230.000000\n",
       "mean     1567.321739\n",
       "std       347.827808\n",
       "min      1092.000000\n",
       "25%      1320.000000\n",
       "50%      1476.500000\n",
       "75%      1631.250000\n",
       "max      2336.000000\n",
       "Name: 신용판매금액, dtype: float64"
      ]
     },
     "execution_count": 8,
     "metadata": {},
     "output_type": "execute_result"
    }
   ],
   "source": [
    "df['신용판매금액'].describe() #기초통계량"
   ]
  },
  {
   "cell_type": "code",
   "execution_count": 9,
   "id": "moral-service",
   "metadata": {
    "collapsed": true,
    "jupyter": {
     "outputs_hidden": true
    }
   },
   "outputs": [
    {
     "data": {
      "text/plain": [
       "1801.0    22\n",
       "2326.0    21\n",
       "1196.0    17\n",
       "1586.0    14\n",
       "1599.0    13\n",
       "1445.0    11\n",
       "1486.0    11\n",
       "1518.0    11\n",
       "1320.0    11\n",
       "1456.0    11\n",
       "2336.0    10\n",
       "1312.0     9\n",
       "1382.0     9\n",
       "1339.0     9\n",
       "1620.0     8\n",
       "1262.0     8\n",
       "1172.0     7\n",
       "1467.0     7\n",
       "1201.0     5\n",
       "1635.0     5\n",
       "1254.0     4\n",
       "1273.0     4\n",
       "1326.0     2\n",
       "1092.0     1\n",
       "Name: 신용판매금액, dtype: int64"
      ]
     },
     "execution_count": 9,
     "metadata": {},
     "output_type": "execute_result"
    }
   ],
   "source": [
    "df['신용판매금액'].value_counts() # 변수의 편향성"
   ]
  },
  {
   "cell_type": "code",
   "execution_count": 10,
   "id": "continuous-genome",
   "metadata": {},
   "outputs": [
    {
     "data": {
      "text/plain": [
       "dtype('float64')"
      ]
     },
     "execution_count": 10,
     "metadata": {},
     "output_type": "execute_result"
    }
   ],
   "source": [
    "df['신용판매금액'].dtype #타입 확인"
   ]
  },
  {
   "cell_type": "code",
   "execution_count": 11,
   "id": "latin-station",
   "metadata": {},
   "outputs": [],
   "source": [
    "# 한글 폰트\n",
    "from matplotlib import font_manager, rc\n",
    "\n",
    "font_path = 'c:/Windows/Fonts/malgun.ttf'\n",
    "\n",
    "font_name = font_manager.FontProperties(fname=font_path).get_name()\n",
    "rc('font', family=font_name)"
   ]
  },
  {
   "cell_type": "code",
   "execution_count": 12,
   "id": "lined-bailey",
   "metadata": {},
   "outputs": [
    {
     "data": {
      "text/plain": [
       "Text(0.5, 1.0, '자치구별 신용판매금액')"
      ]
     },
     "execution_count": 12,
     "metadata": {},
     "output_type": "execute_result"
    },
    {
     "data": {
      "image/png": "[encoded data removed]",
      "text/plain": [
       "<Figure size 432x288 with 1 Axes>"
      ]
     },
     "metadata": {
      "needs_background": "light"
     },
     "output_type": "display_data"
    }
   ],
   "source": [
    "plt.bar(df['자치구'],df['신용판매금액']) #바차트\n",
    "plt.xticks(rotation=90)\n",
    "plt.title('자치구별 신용판매금액')"
   ]
  },
  {
   "cell_type": "code",
   "execution_count": 13,
   "id": "continent-electronics",
   "metadata": {},
   "outputs": [
    {
     "data": {
      "text/plain": [
       "Text(0.5, 1.0, '자치구별 문화예술관람 비율')"
      ]
     },
     "execution_count": 13,
     "metadata": {},
     "output_type": "execute_result"
    },
    {
     "data": {
      "image/png": "[encoded data removed]",
      "text/plain": [
       "<Figure size 432x288 with 1 Axes>"
      ]
     },
     "metadata": {
      "needs_background": "light"
     },
     "output_type": "display_data"
    }
   ],
   "source": [
    "plt.bar(df['자치구'],df['문화예술관람']) #바차트\n",
    "plt.xticks(rotation=90)\n",
    "plt.title('자치구별 문화예술관람 비율')"
   ]
  },
  {
   "cell_type": "code",
   "execution_count": 14,
   "id": "veterinary-frontier",
   "metadata": {},
   "outputs": [
    {
     "data": {
      "text/plain": [
       "Text(0, 0.5, '수')"
      ]
     },
     "execution_count": 14,
     "metadata": {},
     "output_type": "execute_result"
    },
    {
     "data": {
      "image/png": "[encoded data removed]",
      "text/plain": [
       "<Figure size 432x288 with 1 Axes>"
      ]
     },
     "metadata": {
      "needs_background": "light"
     },
     "output_type": "display_data"
    }
   ],
   "source": [
    "plt.hist(df['신용판매금액']) # 금액분포 시각화\n",
    "plt.xlabel('금액')\n",
    "plt.ylabel('수')"
   ]
  },
  {
   "cell_type": "code",
   "execution_count": 15,
   "id": "assisted-screw",
   "metadata": {},
   "outputs": [
    {
     "data": {
      "text/plain": [
       "Text(0, 0.5, '수')"
      ]
     },
     "execution_count": 15,
     "metadata": {},
     "output_type": "execute_result"
    },
    {
     "data": {
      "image/png": "[encoded data removed]",
      "text/plain": [
       "<Figure size 432x288 with 1 Axes>"
      ]
     },
     "metadata": {
      "needs_background": "light"
     },
     "output_type": "display_data"
    }
   ],
   "source": [
    "plt.hist(df['문화예술관람']) # 문화예술관람분포 시각화\n",
    "plt.xlabel('퍼센트')\n",
    "plt.ylabel('수')"
   ]
  }
 ],
 "metadata": {
  "kernelspec": {
   "display_name": "Python 3",
   "language": "python",
   "name": "python3"
  },
  "language_info": {
   "codemirror_mode": {
    "name": "ipython",
    "version": 3
   },
   "file_extension": ".py",
   "mimetype": "text/x-python",
   "name": "python",
   "nbconvert_exporter": "python",
   "pygments_lexer": "ipython3",
   "version": "3.8.8"
  }
 },
 "nbformat": 4,
 "nbformat_minor": 5
}
