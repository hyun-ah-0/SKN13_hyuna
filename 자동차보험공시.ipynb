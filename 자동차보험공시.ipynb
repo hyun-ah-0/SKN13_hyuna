{
 "cells": [
  {
   "cell_type": "code",
   "execution_count": 9,
   "id": "9e3a532e-fa67-4520-acc3-5c70fb79bc9b",
   "metadata": {},
   "outputs": [
    {
     "name": "stderr",
     "output_type": "stream",
     "text": [
      "C:\\Users\\Playdata\\AppData\\Local\\miniconda3\\Lib\\site-packages\\urllib3\\connectionpool.py:1097: InsecureRequestWarning: Unverified HTTPS request is being made to host 'kpub.knia.or.kr'. Adding certificate verification is strongly advised. See: https://urllib3.readthedocs.io/en/latest/advanced-usage.html#tls-warnings\n",
      "  warnings.warn(\n"
     ]
    },
    {
     "name": "stdout",
     "output_type": "stream",
     "text": [
      "크롤링 완료\n"
     ]
    }
   ],
   "source": [
    "import requests\n",
    "from bs4 import BeautifulSoup\n",
    "import csv\n",
    "\n",
    "# 타겟 URL\n",
    "url = \"https://kpub.knia.or.kr/carInsuranceDisc/specialTerms/specialTerms.do\"\n",
    "\n",
    "# 페이지 요청 (SSL 인증서 검증 비활성화)\n",
    "response = requests.get(url, verify=False)\n",
    "response.encoding = \"utf-8\"\n",
    "soup = BeautifulSoup(response.text, 'html.parser')\n",
    "\n",
    "# tr 태그 모두 찾기\n",
    "items = soup.find_all(\"tr\")\n",
    "\n",
    "# 결과 저장용 리스트\n",
    "specials = []\n",
    "\n",
    "for tr in items:\n",
    "    # 예시로 tr 태그 안에서 td 태그를 찾아 특약명과 할인율 등을 추출\n",
    "    tds = tr.find_all(\"td\")\n",
    "    \n",
    "    if len(tds) >= 3:  # 3개 이상의 <td>가 있는 tr만 처리\n",
    "        name = tds[0].get_text(strip=True)  # 첫 번째 td에 특약 이름이 있을 가능성\n",
    "        company = tds[1].get_text(strip=True)  # 두 번째 td에 회사명이 있을 가능성\n",
    "        discount = tds[2].get_text(strip=True)  # 세 번째 td에 할인율 정보 있을 가능성\n",
    "        \n",
    "        # 데이터를 리스트에 저장\n",
    "        specials.append([name, company, discount])\n",
    "\n",
    "# CSV 저장\n",
    "with open(\"full.csv\", \"w\", newline=\"\", encoding=\"utf-8-sig\") as f:\n",
    "    writer = csv.writer(f)\n",
    "    writer.writerow([\"특약 이름\", \"회사\", \"할인율\"])  # 헤더 작성\n",
    "    writer.writerows(specials)  # 데이터 저장\n",
    "\n",
    "print(\"크롤링 완료\")\n"
   ]
  },
  {
   "cell_type": "code",
   "execution_count": null,
   "id": "3e4c73f0-68c2-409b-bd7e-5f8a37d5261b",
   "metadata": {},
   "outputs": [],
   "source": []
  }
 ],
 "metadata": {
  "kernelspec": {
   "display_name": "Python 3 (ipykernel)",
   "language": "python",
   "name": "python3"
  },
  "language_info": {
   "codemirror_mode": {
    "name": "ipython",
    "version": 3
   },
   "file_extension": ".py",
   "mimetype": "text/x-python",
   "name": "python",
   "nbconvert_exporter": "python",
   "pygments_lexer": "ipython3",
   "version": "3.12.9"
  }
 },
 "nbformat": 4,
 "nbformat_minor": 5
}
