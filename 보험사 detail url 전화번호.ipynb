{
 "cells": [
  {
   "cell_type": "code",
   "execution_count": 3,
   "id": "a5dd1f59-8e07-4783-bddd-dbd519316f51",
   "metadata": {},
   "outputs": [
    {
     "name": "stdout",
     "output_type": "stream",
     "text": [
      "✅ '보험사_URL_전화번호.csv' 저장 완료!\n"
     ]
    }
   ],
   "source": [
    "from selenium import webdriver\n",
    "from selenium.webdriver.chrome.options import Options\n",
    "from bs4 import BeautifulSoup\n",
    "import pandas as pd\n",
    "import time\n",
    "\n",
    "# 크롬 옵션 설정\n",
    "options = Options()\n",
    "options.add_argument('--headless')\n",
    "options.add_argument('--no-sandbox')\n",
    "options.add_argument('--disable-dev-shm-usage')\n",
    "\n",
    "# 드라이버 실행\n",
    "driver = webdriver.Chrome(options=options)\n",
    "\n",
    "# 웹페이지 열기\n",
    "url = 'https://carinfo.knia.or.kr/lmxsrv/cnswc/icnyCnswcList.do'\n",
    "driver.get(url)\n",
    "time.sleep(3)\n",
    "\n",
    "# HTML 파싱\n",
    "html = driver.page_source\n",
    "soup = BeautifulSoup(html, 'html.parser')\n",
    "\n",
    "results = []\n",
    "\n",
    "companies = soup.select('div.con-box')\n",
    "for company in companies:\n",
    "    company_name = company.select_one('h4').text.strip()\n",
    "\n",
    "    # 전화번호: \"전화 :\"가 포함된 li에서 텍스트 추출\n",
    "    phone = ''\n",
    "    for li in company.select('ul li'):\n",
    "        if '전화' in li.text:\n",
    "            phone = li.get_text(strip=True).replace('전화 :', '').strip()\n",
    "            break\n",
    "\n",
    "    # 버튼 URL 추출\n",
    "    buttons = company.select('div.btn-box button')\n",
    "    urls = []\n",
    "    for btn in buttons:\n",
    "        onclick = btn.get('onclick')\n",
    "        if onclick:\n",
    "            start = onclick.find(\"'\") + 1\n",
    "            end = onclick.rfind(\"'\")\n",
    "            extracted_url = onclick[start:end]\n",
    "            urls.append(extracted_url)\n",
    "\n",
    "    results.append({\n",
    "        '회사명': company_name,\n",
    "        '대표번호': phone,\n",
    "        '상담센터': urls[0] if len(urls) > 0 else '',\n",
    "        '민원창구': urls[1] if len(urls) > 1 else ''\n",
    "    })\n",
    "\n",
    "driver.quit()\n",
    "\n",
    "# CSV 저장\n",
    "df = pd.DataFrame(results)\n",
    "df.to_csv('보험사_URL_전화번호.csv', index=False, encoding='utf-8-sig')\n",
    "print(\"✅ '보험사_URL_전화번호.csv' 저장 완료!\")\n"
   ]
  },
  {
   "cell_type": "code",
   "execution_count": 3,
   "id": "fc4d35bf-6fde-4347-b141-88b05240b05f",
   "metadata": {},
   "outputs": [
    {
     "name": "stdout",
     "output_type": "stream",
     "text": [
      "Collecting sqlalchemy\n",
      "  Downloading sqlalchemy-2.0.40-cp312-cp312-win_amd64.whl.metadata (9.9 kB)\n",
      "Collecting greenlet>=1 (from sqlalchemy)\n",
      "  Downloading greenlet-3.1.1-cp312-cp312-win_amd64.whl.metadata (3.9 kB)\n",
      "Requirement already satisfied: typing-extensions>=4.6.0 in c:\\users\\playdata\\appdata\\local\\miniconda3\\lib\\site-packages (from sqlalchemy) (4.12.2)\n",
      "Downloading sqlalchemy-2.0.40-cp312-cp312-win_amd64.whl (2.1 MB)\n",
      "   ---------------------------------------- 0.0/2.1 MB ? eta -:--:--\n",
      "   ----------------------------- ---------- 1.6/2.1 MB 10.5 MB/s eta 0:00:01\n",
      "   ---------------------------------------- 2.1/2.1 MB 6.6 MB/s eta 0:00:00\n",
      "Downloading greenlet-3.1.1-cp312-cp312-win_amd64.whl (299 kB)\n",
      "Installing collected packages: greenlet, sqlalchemy\n",
      "Successfully installed greenlet-3.1.1 sqlalchemy-2.0.40\n",
      "Note: you may need to restart the kernel to use updated packages.\n"
     ]
    }
   ],
   "source": [
    "%pip install sqlalchemy"
   ]
  },
  {
   "cell_type": "code",
   "execution_count": 6,
   "id": "34dec851-78a9-479d-96cb-583d3b3198cf",
   "metadata": {},
   "outputs": [
    {
     "name": "stdout",
     "output_type": "stream",
     "text": [
      "CSV 파일이 MySQL로 업로드되었습니다.\n"
     ]
    }
   ],
   "source": [
    "import pandas as pd\n",
    "from sqlalchemy import create_engine\n",
    "\n",
    "# CSV 파일 경로\n",
    "csv_file = '보험_할인_특약.csv'\n",
    "\n",
    "# CSV 파일 읽기\n",
    "df = pd.read_csv(csv_file)\n",
    "\n",
    "# MySQL 접속 정보\n",
    "username = 'SKN13'\n",
    "password = '1111'\n",
    "host = '127.0.0.1'\n",
    "port = '3306'\n",
    "database = 'car_insurance'\n",
    "table_name = 'car_insurance'\n",
    "\n",
    "# SQLAlchemy 엔진 생성\n",
    "engine = create_engine(f'mysql+pymysql://{username}:{password}@{host}:{port}/{database}')\n",
    "\n",
    "# 데이터프레임을 MySQL 테이블로 저장 (기존 테이블에 덮어쓰기: if_exists='replace')\n",
    "df.to_sql(name=table_name, con=engine, if_exists='replace', index=False)\n",
    "\n",
    "print(\"CSV 파일이 MySQL로 업로드되었습니다.\")\n"
   ]
  },
  {
   "cell_type": "code",
   "execution_count": 7,
   "id": "f27be0d4-9483-4410-8fd5-fbc7ef1d145e",
   "metadata": {},
   "outputs": [
    {
     "name": "stdout",
     "output_type": "stream",
     "text": [
      "CSV 파일이 MySQL로 업로드되었습니다.\n"
     ]
    }
   ],
   "source": [
    "import pandas as pd\n",
    "from sqlalchemy import create_engine\n",
    "\n",
    "# CSV 파일 경로\n",
    "csv_file = '보험사_URL_전화번호.csv'\n",
    "\n",
    "# CSV 파일 읽기\n",
    "df = pd.read_csv(csv_file)\n",
    "\n",
    "# MySQL 접속 정보\n",
    "username = 'SKN13'\n",
    "password = '1111'\n",
    "host = '127.0.0.1'\n",
    "port = '3306'\n",
    "database = 'car_insurance'\n",
    "table_name = 'car_number'\n",
    "\n",
    "# SQLAlchemy 엔진 생성\n",
    "engine = create_engine(f'mysql+pymysql://{username}:{password}@{host}:{port}/{database}')\n",
    "\n",
    "# 데이터프레임을 MySQL 테이블로 저장 (기존 테이블에 덮어쓰기: if_exists='replace')\n",
    "df.to_sql(name=table_name, con=engine, if_exists='replace', index=False)\n",
    "\n",
    "print(\"CSV 파일이 MySQL로 업로드되었습니다.\")\n"
   ]
  },
  {
   "cell_type": "code",
   "execution_count": 5,
   "id": "3f87b5c4-a6c3-48ce-8e3d-fcb30323c9f0",
   "metadata": {},
   "outputs": [
    {
     "name": "stdout",
     "output_type": "stream",
     "text": [
      "Collecting pymysql\n",
      "  Downloading PyMySQL-1.1.1-py3-none-any.whl.metadata (4.4 kB)\n",
      "Downloading PyMySQL-1.1.1-py3-none-any.whl (44 kB)\n",
      "Installing collected packages: pymysql\n",
      "Successfully installed pymysql-1.1.1\n",
      "Note: you may need to restart the kernel to use updated packages.\n"
     ]
    }
   ],
   "source": [
    "%pip install pymysql"
   ]
  },
  {
   "cell_type": "code",
   "execution_count": null,
   "id": "26dc20a1-fc2d-42a7-b52f-2cd97971ad6d",
   "metadata": {},
   "outputs": [],
   "source": []
  }
 ],
 "metadata": {
  "kernelspec": {
   "display_name": "Python 3 (ipykernel)",
   "language": "python",
   "name": "python3"
  },
  "language_info": {
   "codemirror_mode": {
    "name": "ipython",
    "version": 3
   },
   "file_extension": ".py",
   "mimetype": "text/x-python",
   "name": "python",
   "nbconvert_exporter": "python",
   "pygments_lexer": "ipython3",
   "version": "3.12.9"
  }
 },
 "nbformat": 4,
 "nbformat_minor": 5
}
