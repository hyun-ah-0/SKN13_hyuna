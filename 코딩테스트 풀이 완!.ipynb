{
 "cells": [
  {
   "cell_type": "markdown",
   "metadata": {
    "id": "Kor7brrGrTK9"
   },
   "source": []
  },
  {
   "cell_type": "code",
   "execution_count": null,
   "metadata": {
    "colab": {
     "base_uri": "https://localhost:8080/"
    },
    "executionInfo": {
     "elapsed": 6,
     "status": "ok",
     "timestamp": 1744810679316,
     "user": {
      "displayName": "박현아",
      "userId": "06613690106270865260"
     },
     "user_tz": -540
    },
    "id": "gIAfnxq3t6kW",
    "outputId": "dfb72e75-784a-40e0-d116-ee2b0b2d936a"
   },
   "outputs": [
    {
     "data": {
      "text/plain": [
       "[0, 0]"
      ]
     },
     "execution_count": 13,
     "metadata": {},
     "output_type": "execute_result"
    }
   ],
   "source": [
    "# 산책\n",
    "def walk(route:str)->list:\n",
    "    east = 0\n",
    "    north = 0\n",
    "    for i in route:\n",
    "        if i == \"N\":\n",
    "            north += 1\n",
    "            \n",
    "        elif i == \"S\" :\n",
    "            north -= 1\n",
    "\n",
    "        elif i == \"E\" :\n",
    "            east += 1\n",
    "\n",
    "        else:\n",
    "            east -= 1\n",
    "        # elif i == \"W\":\n",
    "        #     east -= 1\n",
    "    return [east, north]\n",
    "\n",
    "walk(\"EESEEWNWSNWWNS\")"
   ]
  },
  {
   "cell_type": "code",
   "execution_count": null,
   "metadata": {},
   "outputs": [],
   "source": [
    "def walk(route:str)->list:\n",
    "    return [routes.count('E')-routes.count('W'), routes.count('N')-routes.count('S')]\n",
    "\n",
    "for i in range() -> index or 개수가 정해진\n",
    "for route in routes() -> 안에 있는 원소소\n",
    "\n",
    "for i, route in enumerate(routes):\n"
   ]
  },
  {
   "cell_type": "code",
   "execution_count": null,
   "metadata": {
    "colab": {
     "base_uri": "https://localhost:8080/"
    },
    "executionInfo": {
     "elapsed": 1836,
     "status": "ok",
     "timestamp": 1744809656125,
     "user": {
      "displayName": "박현아",
      "userId": "06613690106270865260"
     },
     "user_tz": -540
    },
    "id": "zlVal3nbvNf2",
    "outputId": "7418951e-4692-49be-d9f5-5126612b0a09"
   },
   "outputs": [
    {
     "name": "stdout",
     "output_type": "stream",
     "text": [
      "pat23_08_20_head\n",
      "Neurosurgery\n"
     ]
    }
   ],
   "source": [
    "#병과분류\n",
    "\n",
    "def disease(code):\n",
    "  disease = code[-4:] # code의 글자수가 다 다르기 때문에 뒤에서부터 4개를 잘라옴\n",
    "\n",
    "  if disease == \"_eye\":\n",
    "    print(\"Ophthalmologyc\")\n",
    "  elif disease == \"head\":\n",
    "    print(\"Neurosurgery\")\n",
    "  elif disease == \"infl\":\n",
    "    print(\"Orthopedics\")\n",
    "  elif disease == \"skin\":\n",
    "    print(\"Dermatology\")\n",
    "  else:\n",
    "    print(\"direct recommendation\")"
   ]
  },
  {
   "cell_type": "code",
   "execution_count": null,
   "metadata": {},
   "outputs": [],
   "source": [
    "def disease(code):\n",
    "    print(\"Ophthalmologyc\" if disease == \"_eye\" else \\\n",
    "          \"Neurosurgery\" if disease == \"head\" else \\\n",
    "          \"Orthopedics\" if disease == \"infl\" else \\\n",
    "          \"Dermatology\" if disease == \"skin\" else \\\n",
    "          \"direct recommendation\")\n",
    "\n",
    "인라인 구문이 '표현식' 그래서 함수 같은 걸 실행 못하고 값에 대해서만 할 수 있어 -> print가 안 된다\n"
   ]
  },
  {
   "cell_type": "code",
   "execution_count": null,
   "metadata": {
    "colab": {
     "base_uri": "https://localhost:8080/",
     "height": 36
    },
    "executionInfo": {
     "elapsed": 22,
     "status": "ok",
     "timestamp": 1744810640308,
     "user": {
      "displayName": "박현아",
      "userId": "06613690106270865260"
     },
     "user_tz": -540
    },
    "id": "296xmhNTyMg-",
    "outputId": "1625dbcb-11a2-4ecc-8faa-671c29077483"
   },
   "outputs": [
    {
     "data": {
      "application/vnd.google.colaboratory.intrinsic+json": {
       "type": "string"
      },
      "text/plain": [
       "'G0oo'"
      ]
     },
     "execution_count": 12,
     "metadata": {},
     "output_type": "execute_result"
    }
   ],
   "source": [
    "# 닉네임 규칙\n",
    "def nickname(nickname):\n",
    "    new_nickname = \"\" \n",
    "    for letter in nickname:\n",
    "        if letter == \"l\":\n",
    "            new_nickname += \"I\"\n",
    "        elif letter == \"w\":\n",
    "            new_nickname += \"vv\"\n",
    "        elif letter == \"W\":\n",
    "            new_nickname += \"VV\"\n",
    "        elif letter == \"O\":\n",
    "            new_nickname += \"0\"\n",
    "        else:\n",
    "            new_nickname += letter\n",
    "\n",
    "    while len(new_nickname) < 4:\n",
    "        new_nickname += \"o\"\n",
    "\n",
    "    if len(new_nickname) > 8:\n",
    "        new_nickname = new_nickname[:8]\n",
    "        \n",
    "    return new_nickname\n",
    "\n",
    "nickname(\"GO\")"
   ]
  },
  {
   "cell_type": "code",
   "execution_count": null,
   "metadata": {},
   "outputs": [],
   "source": [
    "nickname = nickname.replace(\"l\", \"I\").replace(\"w\", \"vv\").replace(\"W\", \"VV\").replace(\"O\", \"0\")"
   ]
  },
  {
   "cell_type": "code",
   "execution_count": null,
   "metadata": {
    "colab": {
     "base_uri": "https://localhost:8080/"
    },
    "executionInfo": {
     "elapsed": 7000,
     "status": "ok",
     "timestamp": 1744809165867,
     "user": {
      "displayName": "박현아",
      "userId": "06613690106270865260"
     },
     "user_tz": -540
    },
    "id": "L6YDEwAruJ9k",
    "outputId": "7686cb98-5d2f-4501-d64c-e9a5474bb14d"
   },
   "outputs": [
    {
     "name": "stdout",
     "output_type": "stream",
     "text": [
      "28\n",
      "6\n",
      "8\n",
      "12\n"
     ]
    }
   ],
   "source": [
    "# 저축\n",
    "\n",
    "def solution(start, before, after):\n",
    "  money = start\n",
    "  month = 1\n",
    "  while money < 70:\n",
    "    money += before\n",
    "    month += 1\n",
    "  while money < 100:\n",
    "    money += after\n",
    "    month += 1\n",
    "  return month"
   ]
  },
  {
   "cell_type": "code",
   "execution_count": null,
   "metadata": {
    "colab": {
     "base_uri": "https://localhost:8080/"
    },
    "executionInfo": {
     "elapsed": 19,
     "status": "ok",
     "timestamp": 1744810892287,
     "user": {
      "displayName": "박현아",
      "userId": "06613690106270865260"
     },
     "user_tz": -540
    },
    "id": "Ppq5kWXxuJ5K",
    "outputId": "e290c62b-3387-457e-abb6-9b0a88e20224"
   },
   "outputs": [
    {
     "data": {
      "text/plain": [
       "['Different', 'Same']"
      ]
     },
     "execution_count": 15,
     "metadata": {},
     "output_type": "execute_result"
    }
   ],
   "source": [
    "# 가채점\n",
    "def score(numbers, our_score, score_list):\n",
    "    answer = []\n",
    "    for i in range(len(numbers)):\n",
    "        # for i, route in enumerate(routes):\n",
    "        if our_score[i] == score_list[numbers[i]-1]: # index는 0부터 시작이기 때문에 -1 해줌\n",
    "            answer.append(\"Same\")\n",
    "        else:\n",
    "            answer.append(\"Different\")\n",
    "\n",
    "    return answer\n",
    "score([3, 4], [85, 93], [85, 92, 38, 93, 48, 85, 92, 56])"
   ]
  },
  {
   "cell_type": "code",
   "execution_count": null,
   "metadata": {},
   "outputs": [],
   "source": []
  },
  {
   "cell_type": "code",
   "execution_count": null,
   "metadata": {},
   "outputs": [
    {
     "data": {
      "text/plain": [
       "0"
      ]
     },
     "execution_count": 12,
     "metadata": {},
     "output_type": "execute_result"
    }
   ],
   "source": [
    "# 버스\n",
    "\n",
    "\n",
    "def bus(seat, passengers):\n",
    "    num_passenger = 0\n",
    "    \n",
    "    for i in range(len(passengers)):\n",
    "        for j in range(len(passengers[i])): # 리스트 안의 리스트 요소를 하나씩 빼기 위해 이중 for 문 사용\n",
    "            if passengers[i][j] == \"-\": # \"-\"가 \"On\", \"Off\" 사이에 있는 경우는 없기 때문에 \"-\"가 나오면 break\n",
    "                break\n",
    "\n",
    "            elif passengers[i][j] == 'On':\n",
    "                num_passenger += 1\n",
    "            else: \n",
    "                num_passenger -= 1\n",
    "\n",
    "    answer = seat - num_passenger # 남은 좌석 수\n",
    "\n",
    "    if answer < 0:\n",
    "        answer = 0\n",
    "    # max(answer, 0)\n",
    "    return answer \n",
    "\n",
    "bus(10, [[\"On\", \"On\", \"On\", \"On\", \"On\", \"On\", \"On\", \"On\", \"-\", \"-\"], [\"On\", \"On\", \"Off\", \"Off\", \"Off\", \"On\", \"On\", \"-\", \"-\", \"-\"], [\"On\", \"On\", \"On\", \"Off\", \"On\", \"On\", \"On\", \"Off\", \"Off\", \"Off\"], [\"On\", \"On\", \"Off\", \"-\", \"-\", \"-\", \"-\", \"-\", \"-\", \"-\"]])"
   ]
  },
  {
   "cell_type": "code",
   "execution_count": 9,
   "metadata": {},
   "outputs": [
    {
     "data": {
      "text/plain": [
       "0"
      ]
     },
     "execution_count": 9,
     "metadata": {},
     "output_type": "execute_result"
    }
   ],
   "source": [
    "# 버스\n",
    "\n",
    "def flatten(data): # 중첩 리스트 평탄화\n",
    "    output = []\n",
    "    for i in data:\n",
    "        if type(i) == list:\n",
    "            output.extend(flatten(i))\n",
    "        else:\n",
    "            output.append(i)\n",
    "    return output\n",
    "\n",
    "\n",
    "def bus(seat, passengers):\n",
    "    num_passenger = 0\n",
    "\n",
    "    passengers = flatten(passengers)\n",
    "    \n",
    "    num_passenger += passengers.count('On')\n",
    "    num_passenger -= passengers.count('Off')\n",
    "    \n",
    "\n",
    "    answer = seat - num_passenger # 남은 좌석 수\n",
    "\n",
    "    \n",
    "    \n",
    "\n",
    "    return max(answer, 0) \n",
    "\n",
    "bus(10, [[\"On\", \"On\", \"On\", \"On\", \"On\", \"On\", \"On\", \"On\", \"-\", \"-\"], [\"On\", \"On\", \"Off\", \"Off\", \"Off\", \"On\", \"On\", \"-\", \"-\", \"-\"], [\"On\", \"On\", \"On\", \"Off\", \"On\", \"On\", \"On\", \"Off\", \"Off\", \"Off\"], [\"On\", \"On\", \"Off\", \"-\", \"-\", \"-\", \"-\", \"-\", \"-\", \"-\"]])"
   ]
  },
  {
   "cell_type": "code",
   "execution_count": null,
   "metadata": {
    "id": "zrsIucxvvXP7"
   },
   "outputs": [
    {
     "data": {
      "text/plain": [
       "4"
      ]
     },
     "execution_count": 2,
     "metadata": {},
     "output_type": "execute_result"
    }
   ],
   "source": [
    "# 지폐 접기\n",
    "\n",
    "def solution(wallet, bill):\n",
    "    count = 0\n",
    "\n",
    "    while (min(bill) > min(wallet)) or (max(bill) > max(wallet)):\n",
    "        if bill[0] > bill[1]: \n",
    "            bill[0] = int(bill[0]/2) # 소수점을 버리기 위해서 int 함수 사용\n",
    "            count += 1\n",
    "        else:\n",
    "            bill[1] = int(bill[1]/2)\n",
    "            count += 1\n",
    "            \n",
    "    return count \n",
    "\n",
    "solution([50, 50], [100, 241])"
   ]
  },
  {
   "cell_type": "code",
   "execution_count": null,
   "metadata": {},
   "outputs": [],
   "source": [
    "wallet.sort(reversed=True)\n",
    "bill.sort(reversed=True)\n",
    "while wallet[0] < bill[0] or wallet[1] < bill[1]:\n",
    "    bill[0] = bill[0] //2\n",
    "    bill.sort(reversed=True)\n",
    "    count += 1"
   ]
  },
  {
   "cell_type": "code",
   "execution_count": null,
   "metadata": {
    "id": "iStNrbYxvZF0"
   },
   "outputs": [
    {
     "data": {
      "text/plain": [
       "-1"
      ]
     },
     "execution_count": 74,
     "metadata": {},
     "output_type": "execute_result"
    }
   ],
   "source": [
    "# 물 부족\n",
    "\n",
    "\n",
    "def solution(storage, usage, change):\n",
    "    water = 0 # 총 사용량\n",
    "    month = 0\n",
    "\n",
    "    for i in range(len(change)):\n",
    "        if water > storage: # 총 사용량이 storage보다 많아질 때 for문 break\n",
    "            break\n",
    "    \n",
    "        if change[i] != 0:\n",
    "            water += int(usage * (1+(change[i]/100))) # 총 사용량에 변화량을 더하고 뺌\n",
    "            usage = int(usage * (1+(change[i]/100))) # 증가 감소량을 usage 업데이트\n",
    "            month += 1\n",
    "\n",
    "        else:\n",
    "            water += usage # 변화량이 0일 때는 전 달과 같기 때문에 usage는 변화 없음\n",
    "            month += 1\n",
    "    \n",
    "    if water < storage: # for문을 다 돌고도 총 사용량이 storage보다 작다면 \n",
    "        month = -1    \n",
    "    \n",
    "\n",
    "    return month\n",
    "\n",
    "solution(5141, 500, [10, -10, 10, -10, 10, -10, 10, -10, 10, -10])\n"
   ]
  },
  {
   "cell_type": "code",
   "execution_count": null,
   "metadata": {
    "colab": {
     "base_uri": "https://localhost:8080/",
     "height": 36
    },
    "executionInfo": {
     "elapsed": 55,
     "status": "ok",
     "timestamp": 1744810743231,
     "user": {
      "displayName": "박현아",
      "userId": "06613690106270865260"
     },
     "user_tz": -540
    },
    "id": "lRRJ0WJ_rR-o",
    "outputId": "40dce5cc-cfbc-4f98-a8fc-a9225ba0a0dd"
   },
   "outputs": [
    {
     "data": {
      "application/vnd.google.colaboratory.intrinsic+json": {
       "type": "string"
      },
      "text/plain": [
       "'pencil'"
      ]
     },
     "execution_count": 14,
     "metadata": {},
     "output_type": "execute_result"
    }
   ],
   "source": [
    "# 창고 정리\n",
    "def storage(storage, num):\n",
    "    clean_storage = []\n",
    "    clean_num = []\n",
    "    for i in range(len(storage)):\n",
    "        if storage[i] in clean_storage: # 정리한 물품에 있다면 \n",
    "            pos = clean_storage.index(storage[i]) # 같은 물품끼리는 개수를 더해줘야 하기 때문에 해당 물품의 index를 찾음\n",
    "            clean_num[pos] += num[i] # 뽑아온 index(같은 물품의 index를 의미)에 물품의 개수를 더해줌\n",
    "        else:\n",
    "            clean_storage.append(storage[i]) # 정리한 물품이 없다면\n",
    "            clean_num.append(num[i]) # 정리한 물품 리스트에 append\n",
    "\n",
    "    max_num = max(clean_num) # 정리한 물품의 최댓값\n",
    "    answer = clean_storage[clean_num.index(max_num)] # 최댓값의 index가 가장 많은 물품\n",
    "    return answer\n",
    "\n",
    "storage([\"pencil\", \"pencil\", \"pencil\", \"book\"], [2, 4, 3, 1])"
   ]
  },
  {
   "cell_type": "code",
   "execution_count": null,
   "metadata": {
    "id": "sqtCnStRu68o"
   },
   "outputs": [],
   "source": [
    "#동영상 재생기\n",
    "def time_to_int(pos):\n",
    "    time = int(pos.split(\":\")[0]) * 60 + int(pos.split(\":\")[1])\n",
    "    retrun time\n",
    "\n",
    "def solution(video_len, pos, op_start, op_end, commands):\n",
    "    minute = pos.split(\":\")[0]\n",
    "    second = pos.split(\":\")[1]\n",
    "    time   = int(minute) * 60 + int(second)\n",
    "\n",
    "    op_start_time = int(op_start.split(\":\")[0]) * 60 + int(op_start.split(\":\")[1])\n",
    "    op_end_time = int(op_end.split(\":\")[0]) * 60 + int(op_end.split(\":\")[1])\n",
    "    video_time = int(video_len.split(\":\")[0]) * 60 + int(video_len.split(\":\")[1])\n",
    "\n",
    "    if op_start_time <= time <= op_end_time:\n",
    "        time = op_end_time\n",
    "            \n",
    "    for i in range(len(commands)):\n",
    "\n",
    "        if commands[i] == \"prev\":\n",
    "            time -= 10\n",
    "\n",
    "            if time <= 0:\n",
    "                time = 0\n",
    "\n",
    "        if commands[i] == \"next\":\n",
    "            time += 10\n",
    "\n",
    "            if time >= video_time:\n",
    "                time = video_time\n",
    "\n",
    "        if op_start_time <= time <= op_end_time:\n",
    "            time = op_end_time\n",
    "\n",
    "\n",
    "    minute_change = time // 60\n",
    "    second_change = time % 60\n",
    "\n",
    "    pos = str(minute_change).zfill(2) + \":\" + str(second_change).zfill(2)\n",
    "\n",
    "    return pos"
   ]
  },
  {
   "cell_type": "code",
   "execution_count": null,
   "metadata": {},
   "outputs": [],
   "source": [
    "#동영상 재생기\n",
    "def time_to_int(pos):\n",
    "    time = int(pos.split(\":\")[0]) * 60 + int(pos.split(\":\")[1])\n",
    "    return time\n",
    "\n",
    "def solution(video_len, pos, op_start, op_end, commands):\n",
    "    time = time_to_int(pos)\n",
    "\n",
    "    op_start_time = time_to_int(op_start)\n",
    "    op_end_time = time_to_int(op_end)\n",
    "    video_time = time_to_int(video_len)\n",
    "\n",
    "    if max(op_start_time, min(op_end_time, time)) == time:\n",
    "        time = op_end_time\n",
    "            \n",
    "    for i in range(len(commands)):\n",
    "\n",
    "        if commands[i] == \"prev\":\n",
    "            time -= 10\n",
    "\n",
    "            time = max(time, 0)\n",
    "               \n",
    "\n",
    "        if commands[i] == \"next\":\n",
    "            time += 10\n",
    "\n",
    "            \n",
    "\n",
    "            if time >= video_time:\n",
    "                time = video_time\n",
    "\n",
    "        if max(op_start_time, min(op_end_time, time)) == time:\n",
    "            time = op_end_time\n",
    "\n",
    "\n",
    "    minute_change = time // 60\n",
    "    second_change = time % 60\n",
    "\n",
    "    pos = str(minute_change).zfill(2) + \":\" + str(second_change).zfill(2)\n",
    "\n",
    "    return pos"
   ]
  },
  {
   "cell_type": "markdown",
   "metadata": {
    "id": "PkymBXixrR0D"
   },
   "source": []
  }
 ],
 "metadata": {
  "colab": {
   "authorship_tag": "ABX9TyNgQEAp6v+1tNx/8bvYk+VB",
   "provenance": []
  },
  "kernelspec": {
   "display_name": "ml",
   "language": "python",
   "name": "python3"
  },
  "language_info": {
   "codemirror_mode": {
    "name": "ipython",
    "version": 3
   },
   "file_extension": ".py",
   "mimetype": "text/x-python",
   "name": "python",
   "nbconvert_exporter": "python",
   "pygments_lexer": "ipython3",
   "version": "3.12.10"
  }
 },
 "nbformat": 4,
 "nbformat_minor": 0
}
