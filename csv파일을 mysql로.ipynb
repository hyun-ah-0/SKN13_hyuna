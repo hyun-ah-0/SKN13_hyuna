{
 "cells": [
  {
   "cell_type": "code",
   "execution_count": null,
   "id": "ac08c504-0aec-4f6b-8f0f-abfebd41a87a",
   "metadata": {},
   "outputs": [],
   "source": [
    "import pandas as pd\n",
    "from sqlalchemy import create_engine\n",
    "\n",
    "# CSV 파일 경로\n",
    "csv_file = '보험_할인_특약.csv'\n",
    "\n",
    "# CSV 파일 읽기\n",
    "df = pd.read_csv(csv_file)\n",
    "\n",
    "# MySQL 접속 정보\n",
    "username = 'SKN13'\n",
    "password = '1111'\n",
    "host = '127.0.0.1'\n",
    "port = '3306'\n",
    "database = 'car_insurance'\n",
    "table_name = 'car_insurance'\n",
    "\n",
    "# SQLAlchemy 엔진 생성\n",
    "engine = create_engine(f'mysql+pymysql://{username}:{password}@{host}:{port}/{database}')\n",
    "\n",
    "# 데이터프레임을 MySQL 테이블로 저장 (기존 테이블에 덮어쓰기: if_exists='replace')\n",
    "df.to_sql(name=table_name, con=engine, if_exists='replace', index=False)\n",
    "\n",
    "print(\"CSV 파일이 MySQL로 업로드되었습니다.\")\n"
   ]
  },
  {
   "cell_type": "code",
   "execution_count": null,
   "id": "e8eaf74d-0498-48de-9a18-9f4c91924cf4",
   "metadata": {},
   "outputs": [],
   "source": [
    "import pandas as pd\n",
    "from sqlalchemy import create_engine\n",
    "\n",
    "# CSV 파일 경로\n",
    "csv_file = '보험사_URL_전화번호.csv'\n",
    "\n",
    "# CSV 파일 읽기\n",
    "df = pd.read_csv(csv_file)\n",
    "\n",
    "# MySQL 접속 정보\n",
    "username = 'SKN13'\n",
    "password = '1111'\n",
    "host = '127.0.0.1'\n",
    "port = '3306'\n",
    "database = 'car_insurance'\n",
    "table_name = 'car_number'\n",
    "\n",
    "# SQLAlchemy 엔진 생성\n",
    "engine = create_engine(f'mysql+pymysql://{username}:{password}@{host}:{port}/{database}')\n",
    "\n",
    "# 데이터프레임을 MySQL 테이블로 저장 (기존 테이블에 덮어쓰기: if_exists='replace')\n",
    "df.to_sql(name=table_name, con=engine, if_exists='replace', index=False)\n",
    "\n",
    "print(\"CSV 파일이 MySQL로 업로드되었습니다.\")\n"
   ]
  }
 ],
 "metadata": {
  "kernelspec": {
   "display_name": "Python 3 (ipykernel)",
   "language": "python",
   "name": "python3"
  },
  "language_info": {
   "codemirror_mode": {
    "name": "ipython",
    "version": 3
   },
   "file_extension": ".py",
   "mimetype": "text/x-python",
   "name": "python",
   "nbconvert_exporter": "python",
   "pygments_lexer": "ipython3",
   "version": "3.12.9"
  }
 },
 "nbformat": 4,
 "nbformat_minor": 5
}
